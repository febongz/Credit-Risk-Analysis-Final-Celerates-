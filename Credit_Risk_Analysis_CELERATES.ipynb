{
  "nbformat": 4,
  "nbformat_minor": 0,
  "metadata": {
    "colab": {
      "provenance": [],
      "collapsed_sections": [
        "OAs_1GiyFC2c",
        "-jpyxSqKFG-s",
        "WM71ppQvGmWE",
        "LMNN9P6eQPYs"
      ]
    },
    "kernelspec": {
      "name": "python3",
      "display_name": "Python 3"
    },
    "language_info": {
      "name": "python"
    }
  },
  "cells": [
    {
      "cell_type": "markdown",
      "source": [
        "# Data Preparation lanjutan dari pentaho"
      ],
      "metadata": {
        "id": "exVovqhzk_FN"
      }
    },
    {
      "cell_type": "code",
      "execution_count": null,
      "metadata": {
        "id": "VleActN53D96",
        "colab": {
          "base_uri": "https://localhost:8080/"
        },
        "outputId": "d56c5714-0c59-4894-8d4c-fb9189b564f0"
      },
      "outputs": [
        {
          "output_type": "stream",
          "name": "stdout",
          "text": [
            "Drive already mounted at /content/drive; to attempt to forcibly remount, call drive.mount(\"/content/drive\", force_remount=True).\n"
          ]
        }
      ],
      "source": [
        "from google.colab import drive\n",
        "drive.mount('/content/drive')"
      ]
    },
    {
      "cell_type": "code",
      "source": [
        "import pandas as pd\n",
        "import numpy as np"
      ],
      "metadata": {
        "id": "rNYjxeYmGc6S"
      },
      "execution_count": null,
      "outputs": []
    },
    {
      "cell_type": "markdown",
      "source": [
        "## Preparation file credit history (take the max Value Overdue dari file credit history dan menghapus yang tidak memiliki pinjaman)"
      ],
      "metadata": {
        "id": "ZsqyKHa_gT_L"
      }
    },
    {
      "cell_type": "code",
      "source": [
        "cr = pd.read_csv(\"/content/drive/MyDrive/finproject_celerates/credit_history.csv\")"
      ],
      "metadata": {
        "id": "VDHd5Q5HHyrA"
      },
      "execution_count": null,
      "outputs": []
    },
    {
      "cell_type": "code",
      "source": [
        "cr.head()"
      ],
      "metadata": {
        "id": "GDqTiFwbKhTp",
        "colab": {
          "base_uri": "https://localhost:8080/",
          "height": 206
        },
        "outputId": "f29feccf-1aca-4980-fa15-50fd9fe36e66"
      },
      "execution_count": null,
      "outputs": [
        {
          "output_type": "execute_result",
          "data": {
            "text/plain": [
              "   Id_customer                  Overdue\n",
              "0      5001711  Tidak memiliki pinjaman\n",
              "1      5001711                        0\n",
              "2      5001711                        0\n",
              "3      5001711                        0\n",
              "4      5001712                        0"
            ],
            "text/html": [
              "\n",
              "  <div id=\"df-7660f3f6-4857-4251-86f4-a6dd8fc873ae\">\n",
              "    <div class=\"colab-df-container\">\n",
              "      <div>\n",
              "<style scoped>\n",
              "    .dataframe tbody tr th:only-of-type {\n",
              "        vertical-align: middle;\n",
              "    }\n",
              "\n",
              "    .dataframe tbody tr th {\n",
              "        vertical-align: top;\n",
              "    }\n",
              "\n",
              "    .dataframe thead th {\n",
              "        text-align: right;\n",
              "    }\n",
              "</style>\n",
              "<table border=\"1\" class=\"dataframe\">\n",
              "  <thead>\n",
              "    <tr style=\"text-align: right;\">\n",
              "      <th></th>\n",
              "      <th>Id_customer</th>\n",
              "      <th>Overdue</th>\n",
              "    </tr>\n",
              "  </thead>\n",
              "  <tbody>\n",
              "    <tr>\n",
              "      <th>0</th>\n",
              "      <td>5001711</td>\n",
              "      <td>Tidak memiliki pinjaman</td>\n",
              "    </tr>\n",
              "    <tr>\n",
              "      <th>1</th>\n",
              "      <td>5001711</td>\n",
              "      <td>0</td>\n",
              "    </tr>\n",
              "    <tr>\n",
              "      <th>2</th>\n",
              "      <td>5001711</td>\n",
              "      <td>0</td>\n",
              "    </tr>\n",
              "    <tr>\n",
              "      <th>3</th>\n",
              "      <td>5001711</td>\n",
              "      <td>0</td>\n",
              "    </tr>\n",
              "    <tr>\n",
              "      <th>4</th>\n",
              "      <td>5001712</td>\n",
              "      <td>0</td>\n",
              "    </tr>\n",
              "  </tbody>\n",
              "</table>\n",
              "</div>\n",
              "      <button class=\"colab-df-convert\" onclick=\"convertToInteractive('df-7660f3f6-4857-4251-86f4-a6dd8fc873ae')\"\n",
              "              title=\"Convert this dataframe to an interactive table.\"\n",
              "              style=\"display:none;\">\n",
              "        \n",
              "  <svg xmlns=\"http://www.w3.org/2000/svg\" height=\"24px\"viewBox=\"0 0 24 24\"\n",
              "       width=\"24px\">\n",
              "    <path d=\"M0 0h24v24H0V0z\" fill=\"none\"/>\n",
              "    <path d=\"M18.56 5.44l.94 2.06.94-2.06 2.06-.94-2.06-.94-.94-2.06-.94 2.06-2.06.94zm-11 1L8.5 8.5l.94-2.06 2.06-.94-2.06-.94L8.5 2.5l-.94 2.06-2.06.94zm10 10l.94 2.06.94-2.06 2.06-.94-2.06-.94-.94-2.06-.94 2.06-2.06.94z\"/><path d=\"M17.41 7.96l-1.37-1.37c-.4-.4-.92-.59-1.43-.59-.52 0-1.04.2-1.43.59L10.3 9.45l-7.72 7.72c-.78.78-.78 2.05 0 2.83L4 21.41c.39.39.9.59 1.41.59.51 0 1.02-.2 1.41-.59l7.78-7.78 2.81-2.81c.8-.78.8-2.07 0-2.86zM5.41 20L4 18.59l7.72-7.72 1.47 1.35L5.41 20z\"/>\n",
              "  </svg>\n",
              "      </button>\n",
              "      \n",
              "  <style>\n",
              "    .colab-df-container {\n",
              "      display:flex;\n",
              "      flex-wrap:wrap;\n",
              "      gap: 12px;\n",
              "    }\n",
              "\n",
              "    .colab-df-convert {\n",
              "      background-color: #E8F0FE;\n",
              "      border: none;\n",
              "      border-radius: 50%;\n",
              "      cursor: pointer;\n",
              "      display: none;\n",
              "      fill: #1967D2;\n",
              "      height: 32px;\n",
              "      padding: 0 0 0 0;\n",
              "      width: 32px;\n",
              "    }\n",
              "\n",
              "    .colab-df-convert:hover {\n",
              "      background-color: #E2EBFA;\n",
              "      box-shadow: 0px 1px 2px rgba(60, 64, 67, 0.3), 0px 1px 3px 1px rgba(60, 64, 67, 0.15);\n",
              "      fill: #174EA6;\n",
              "    }\n",
              "\n",
              "    [theme=dark] .colab-df-convert {\n",
              "      background-color: #3B4455;\n",
              "      fill: #D2E3FC;\n",
              "    }\n",
              "\n",
              "    [theme=dark] .colab-df-convert:hover {\n",
              "      background-color: #434B5C;\n",
              "      box-shadow: 0px 1px 3px 1px rgba(0, 0, 0, 0.15);\n",
              "      filter: drop-shadow(0px 1px 2px rgba(0, 0, 0, 0.3));\n",
              "      fill: #FFFFFF;\n",
              "    }\n",
              "  </style>\n",
              "\n",
              "      <script>\n",
              "        const buttonEl =\n",
              "          document.querySelector('#df-7660f3f6-4857-4251-86f4-a6dd8fc873ae button.colab-df-convert');\n",
              "        buttonEl.style.display =\n",
              "          google.colab.kernel.accessAllowed ? 'block' : 'none';\n",
              "\n",
              "        async function convertToInteractive(key) {\n",
              "          const element = document.querySelector('#df-7660f3f6-4857-4251-86f4-a6dd8fc873ae');\n",
              "          const dataTable =\n",
              "            await google.colab.kernel.invokeFunction('convertToInteractive',\n",
              "                                                     [key], {});\n",
              "          if (!dataTable) return;\n",
              "\n",
              "          const docLinkHtml = 'Like what you see? Visit the ' +\n",
              "            '<a target=\"_blank\" href=https://colab.research.google.com/notebooks/data_table.ipynb>data table notebook</a>'\n",
              "            + ' to learn more about interactive tables.';\n",
              "          element.innerHTML = '';\n",
              "          dataTable['output_type'] = 'display_data';\n",
              "          await google.colab.output.renderOutput(dataTable, element);\n",
              "          const docLink = document.createElement('div');\n",
              "          docLink.innerHTML = docLinkHtml;\n",
              "          element.appendChild(docLink);\n",
              "        }\n",
              "      </script>\n",
              "    </div>\n",
              "  </div>\n",
              "  "
            ]
          },
          "metadata": {},
          "execution_count": 99
        }
      ]
    },
    {
      "cell_type": "code",
      "source": [
        "cr.isnull().sum()"
      ],
      "metadata": {
        "id": "2lo9xcWiH3I3",
        "colab": {
          "base_uri": "https://localhost:8080/"
        },
        "outputId": "7a5faed9-5cff-410c-8f2b-0548a585e461"
      },
      "execution_count": null,
      "outputs": [
        {
          "output_type": "execute_result",
          "data": {
            "text/plain": [
              "Id_customer    0\n",
              "Overdue        0\n",
              "dtype: int64"
            ]
          },
          "metadata": {},
          "execution_count": 100
        }
      ]
    },
    {
      "cell_type": "markdown",
      "source": [
        "#### menghapus yang tidak memiliki pinjaman"
      ],
      "metadata": {
        "id": "LHmW3sWEgc5D"
      }
    },
    {
      "cell_type": "code",
      "source": [
        "mask = cr[\"Overdue\"] == \"Tidak memiliki pinjaman\""
      ],
      "metadata": {
        "id": "b4jhNO_LH6Cn"
      },
      "execution_count": null,
      "outputs": []
    },
    {
      "cell_type": "code",
      "source": [
        "cr = cr[~mask]"
      ],
      "metadata": {
        "id": "ueqEHtPiKl4J"
      },
      "execution_count": null,
      "outputs": []
    },
    {
      "cell_type": "code",
      "source": [
        "cr.Overdue.value_counts()"
      ],
      "metadata": {
        "id": "YxZwcj6MKrFB",
        "colab": {
          "base_uri": "https://localhost:8080/"
        },
        "outputId": "9c8ce0e5-4324-4bcd-bab3-f9afcc91af34"
      },
      "execution_count": null,
      "outputs": [
        {
          "output_type": "execute_result",
          "data": {
            "text/plain": [
              "0    821230\n",
              "1     10936\n",
              "5      1677\n",
              "2       849\n",
              "3       317\n",
              "4       222\n",
              "Name: Overdue, dtype: int64"
            ]
          },
          "metadata": {},
          "execution_count": 103
        }
      ]
    },
    {
      "cell_type": "markdown",
      "source": [
        "### mengambil max value dari overdue credit history"
      ],
      "metadata": {
        "id": "jXH-M3L0hqcN"
      }
    },
    {
      "cell_type": "code",
      "source": [
        "cr = cr.groupby(\"Id_customer\").max()"
      ],
      "metadata": {
        "id": "Ac6HDcoAKw75"
      },
      "execution_count": null,
      "outputs": []
    },
    {
      "cell_type": "code",
      "source": [
        "cr.to_csv(\"credit_history.csv\")"
      ],
      "metadata": {
        "id": "ZK6a8MivESNe"
      },
      "execution_count": null,
      "outputs": []
    },
    {
      "cell_type": "code",
      "source": [
        "#from google.colab import files\n",
        "#files.download('credit_history.csv')"
      ],
      "metadata": {
        "id": "GCmbzpC6EnGB"
      },
      "execution_count": null,
      "outputs": []
    },
    {
      "cell_type": "code",
      "source": [
        "cr[\"Overdue\"] = cr[\"Overdue\"].astype(np.float64)"
      ],
      "metadata": {
        "id": "qoOYARqEjvwS"
      },
      "execution_count": null,
      "outputs": []
    },
    {
      "cell_type": "code",
      "source": [
        "cr.Overdue.value_counts()"
      ],
      "metadata": {
        "id": "gBjnpIQHij2V",
        "colab": {
          "base_uri": "https://localhost:8080/"
        },
        "outputId": "e9f8d57a-458b-495f-bf9e-1fb4217cfdcf"
      },
      "execution_count": null,
      "outputs": [
        {
          "output_type": "execute_result",
          "data": {
            "text/plain": [
              "0.0    35976\n",
              "1.0     4617\n",
              "2.0      328\n",
              "5.0      193\n",
              "3.0       87\n",
              "4.0       48\n",
              "Name: Overdue, dtype: int64"
            ]
          },
          "metadata": {},
          "execution_count": 108
        }
      ]
    },
    {
      "cell_type": "code",
      "source": [
        "cr[\"Overdue\"] = np.where(cr[\"Overdue\"].isin([1, 2, 3, 4, 5]), 1, 0)"
      ],
      "metadata": {
        "id": "SWILx8cAfNMi"
      },
      "execution_count": null,
      "outputs": []
    },
    {
      "cell_type": "code",
      "source": [
        "cr.Overdue.value_counts()"
      ],
      "metadata": {
        "id": "8ZEbrF_Y5dS3",
        "colab": {
          "base_uri": "https://localhost:8080/"
        },
        "outputId": "a02beed0-19ce-4db7-cae7-2b278d16ac0a"
      },
      "execution_count": null,
      "outputs": [
        {
          "output_type": "execute_result",
          "data": {
            "text/plain": [
              "0    35976\n",
              "1     5273\n",
              "Name: Overdue, dtype: int64"
            ]
          },
          "metadata": {},
          "execution_count": 110
        }
      ]
    },
    {
      "cell_type": "markdown",
      "source": [
        "## KNN Imputer for handling missing values in 'Pekerjaan'"
      ],
      "metadata": {
        "id": "kLu1EX4_mJhZ"
      }
    },
    {
      "cell_type": "code",
      "source": [
        "df = pd.read_csv(\"/content/drive/MyDrive/finproject_celerates/data_train.csv\")"
      ],
      "metadata": {
        "id": "QNtJxFShnkjQ"
      },
      "execution_count": null,
      "outputs": []
    },
    {
      "cell_type": "code",
      "source": [
        "df.isnull().sum()"
      ],
      "metadata": {
        "id": "5xMSImMBNWzt",
        "colab": {
          "base_uri": "https://localhost:8080/"
        },
        "outputId": "3fb893fc-7195-4305-b85e-07c52e846666"
      },
      "execution_count": null,
      "outputs": [
        {
          "output_type": "execute_result",
          "data": {
            "text/plain": [
              "Id_customer                 0\n",
              "JK                          0\n",
              "KepemilikanMobil            0\n",
              "KepemilikanProperti         0\n",
              "JmlAnak                     0\n",
              "Pendapatan                  0\n",
              "TipePendapatan              0\n",
              "TingkatPendidikan           0\n",
              "StatusKeluarga              0\n",
              "TipeRumah                   0\n",
              "FlagMobile                  0\n",
              "FlagWorkPhone               0\n",
              "FlagPhone                   0\n",
              "Email                       0\n",
              "Pekerjaan              134243\n",
              "JmlAnggotaKeluarga          0\n",
              "Age                         0\n",
              "Experience                  0\n",
              "dtype: int64"
            ]
          },
          "metadata": {},
          "execution_count": 112
        }
      ]
    },
    {
      "cell_type": "code",
      "source": [
        "from sklearn.impute import KNNImputer\n",
        "from sklearn.preprocessing import MinMaxScaler"
      ],
      "metadata": {
        "id": "ECZ6NGGQnscH"
      },
      "execution_count": null,
      "outputs": []
    },
    {
      "cell_type": "code",
      "source": [
        "obj_df = df.select_dtypes(include=['object'])\n",
        "colum = obj_df\n",
        "for i in colum:\n",
        "  df[i] = df[i].astype('category')"
      ],
      "metadata": {
        "id": "P8Zyj968tP3L"
      },
      "execution_count": null,
      "outputs": []
    },
    {
      "cell_type": "code",
      "source": [
        "count = -1\n",
        "convert_original = ['JK','KepemilikanMobil','KepemilikanProperti','TipePendapatan','TingkatPendidikan','StatusKeluarga','TipeRumah','Pekerjaan']\n",
        "original = []\n",
        "for i in convert_original:\n",
        "  c = df[i].astype('category')\n",
        "  d = dict(enumerate(c.cat.categories))\n",
        "  original.append(d)\n",
        "  count += 1\n",
        "  print(count,i,d)"
      ],
      "metadata": {
        "id": "6kzY1n4mNftF",
        "colab": {
          "base_uri": "https://localhost:8080/"
        },
        "outputId": "8c794bbe-e5ed-4b52-8aa5-5f4f194cc390"
      },
      "execution_count": null,
      "outputs": [
        {
          "output_type": "stream",
          "name": "stdout",
          "text": [
            "0 JK {0: 'Laki-laki', 1: 'Perempuan'}\n",
            "1 KepemilikanMobil {0: 'Tidak', 1: 'Ya'}\n",
            "2 KepemilikanProperti {0: 'Tidak', 1: 'Ya'}\n",
            "3 TipePendapatan {0: 'Asosiasi komersial', 1: 'Bekerja', 2: 'Mahasiswa/Murid', 3: 'PNS', 4: 'Pensioner'}\n",
            "4 TingkatPendidikan {0: 'Graduate', 1: 'Postgraduate', 2: 'Undergraduate'}\n",
            "5 StatusKeluarga {0: 'Belum Menikah', 1: 'Cerai', 2: 'Menikah'}\n",
            "6 TipeRumah {0: 'Apartemen Pribadi', 1: 'Apartemen kantor', 2: 'Rumah orang tua', 3: 'Rumah pribadi', 4: 'Sewa Apartemen'}\n",
            "7 Pekerjaan {0: 'Accountants', 1: 'Cleaning staff', 2: 'Cooking staff', 3: 'Core staff', 4: 'Drivers', 5: 'HR staff', 6: 'High skill tech staff', 7: 'IT staff', 8: 'Laborers', 9: 'Low-skill Laborers', 10: 'Managers', 11: 'Medicine staff', 12: 'Private service staff', 13: 'Realty agents', 14: 'Sales staff', 15: 'Secretaries', 16: 'Security staff', 17: 'Waiters/barmen staff'}\n"
          ]
        }
      ]
    },
    {
      "cell_type": "markdown",
      "source": [
        "### encoding"
      ],
      "metadata": {
        "id": "Ldr73XSF1O2Q"
      }
    },
    {
      "cell_type": "code",
      "source": [
        "df['JK'] = df['JK'].cat.codes\n",
        "df['KepemilikanMobil'] = df['KepemilikanMobil'].cat.codes\n",
        "df['KepemilikanProperti'] = df['KepemilikanProperti'].cat.codes\n",
        "df['TipePendapatan'] = df['TipePendapatan'].cat.codes\n",
        "df['TingkatPendidikan'] = df['TingkatPendidikan'].cat.codes\n",
        "df['StatusKeluarga'] = df['StatusKeluarga'].cat.codes\n",
        "df['TipeRumah'] = df['TipeRumah'].cat.codes"
      ],
      "metadata": {
        "id": "iGxpZTwatp25"
      },
      "execution_count": null,
      "outputs": []
    },
    {
      "cell_type": "code",
      "source": [
        "index_null = df[df['Pekerjaan'].isnull()].index.tolist()\n",
        "test_mv = df.iloc[index_null]"
      ],
      "metadata": {
        "id": "w1U8CL7DulrP"
      },
      "execution_count": null,
      "outputs": []
    },
    {
      "cell_type": "code",
      "source": [
        "train_mv = df.drop(index_null)"
      ],
      "metadata": {
        "id": "rFkvUXcou3x9"
      },
      "execution_count": null,
      "outputs": []
    },
    {
      "cell_type": "code",
      "source": [
        "train_mv['Pekerjaan'] = train_mv['Pekerjaan'].cat.codes"
      ],
      "metadata": {
        "id": "bsD_KPSMu-Ih"
      },
      "execution_count": null,
      "outputs": []
    },
    {
      "cell_type": "code",
      "source": [
        "corr_col = train_mv.corr()"
      ],
      "metadata": {
        "id": "1-kg7p__vW5Z"
      },
      "execution_count": null,
      "outputs": []
    },
    {
      "cell_type": "code",
      "source": [
        "corr_col['Pekerjaan']"
      ],
      "metadata": {
        "id": "UZnr5z2hvcxp",
        "colab": {
          "base_uri": "https://localhost:8080/"
        },
        "outputId": "6c4c3469-a5f3-491c-f8e6-d2bfc921c45e"
      },
      "execution_count": null,
      "outputs": [
        {
          "output_type": "execute_result",
          "data": {
            "text/plain": [
              "Id_customer           -0.001239\n",
              "JK                     0.028289\n",
              "KepemilikanMobil      -0.038866\n",
              "KepemilikanProperti    0.005130\n",
              "JmlAnak               -0.011505\n",
              "Pendapatan            -0.012059\n",
              "TipePendapatan        -0.106225\n",
              "TingkatPendidikan     -0.127887\n",
              "StatusKeluarga        -0.011756\n",
              "TipeRumah              0.002157\n",
              "FlagMobile                  NaN\n",
              "FlagWorkPhone          0.005652\n",
              "FlagPhone             -0.013332\n",
              "Email                 -0.014900\n",
              "Pekerjaan              1.000000\n",
              "JmlAnggotaKeluarga    -0.014575\n",
              "Age                   -0.015691\n",
              "Experience            -0.055193\n",
              "Name: Pekerjaan, dtype: float64"
            ]
          },
          "metadata": {},
          "execution_count": 121
        }
      ]
    },
    {
      "cell_type": "markdown",
      "source": [
        "### get column names of train data"
      ],
      "metadata": {
        "id": "2lPYQrjh1ywm"
      }
    },
    {
      "cell_type": "code",
      "source": [
        "feature = []\n",
        "for i in train_mv.columns:\n",
        "  if i not in ['Pekerjaan', 'Id_customer', 'FlagMobile']:\n",
        "    feature.append(i)\n",
        "feature"
      ],
      "metadata": {
        "id": "-S4B649UrLpi",
        "colab": {
          "base_uri": "https://localhost:8080/"
        },
        "outputId": "b72b8e5b-e8eb-429b-891d-a7b71f7198d3"
      },
      "execution_count": null,
      "outputs": [
        {
          "output_type": "execute_result",
          "data": {
            "text/plain": [
              "['JK',\n",
              " 'KepemilikanMobil',\n",
              " 'KepemilikanProperti',\n",
              " 'JmlAnak',\n",
              " 'Pendapatan',\n",
              " 'TipePendapatan',\n",
              " 'TingkatPendidikan',\n",
              " 'StatusKeluarga',\n",
              " 'TipeRumah',\n",
              " 'FlagWorkPhone',\n",
              " 'FlagPhone',\n",
              " 'Email',\n",
              " 'JmlAnggotaKeluarga',\n",
              " 'Age',\n",
              " 'Experience']"
            ]
          },
          "metadata": {},
          "execution_count": 122
        }
      ]
    },
    {
      "cell_type": "markdown",
      "source": [
        "### split data"
      ],
      "metadata": {
        "id": "95B9YIFz156I"
      }
    },
    {
      "cell_type": "code",
      "source": [
        "from sklearn.model_selection import train_test_split"
      ],
      "metadata": {
        "id": "hVykoPcXrp0S"
      },
      "execution_count": null,
      "outputs": []
    },
    {
      "cell_type": "code",
      "source": [
        "x = train_mv.loc[:, feature]\n",
        "y = train_mv.loc[:, ['Pekerjaan']]"
      ],
      "metadata": {
        "id": "8a9w9i71rzCB"
      },
      "execution_count": null,
      "outputs": []
    },
    {
      "cell_type": "code",
      "source": [
        "X_train, X_test, y_train, y_test = train_test_split(x,y, train_size = 0.8)"
      ],
      "metadata": {
        "id": "M5XE5zCSsgEU"
      },
      "execution_count": null,
      "outputs": []
    },
    {
      "cell_type": "markdown",
      "source": [
        "### KNN imputer"
      ],
      "metadata": {
        "id": "McO_IadH1-4C"
      }
    },
    {
      "cell_type": "code",
      "source": [
        "from sklearn.neighbors import KNeighborsClassifier\n",
        "knn=KNeighborsClassifier(n_neighbors=1)\n",
        "knn.fit(X_train,y_train)"
      ],
      "metadata": {
        "id": "9NzBwvmBv-3p",
        "colab": {
          "base_uri": "https://localhost:8080/"
        },
        "outputId": "92069da7-e176-4f73-8580-1208e9fd04fb"
      },
      "execution_count": null,
      "outputs": [
        {
          "output_type": "stream",
          "name": "stderr",
          "text": [
            "/usr/local/lib/python3.8/dist-packages/sklearn/neighbors/_classification.py:198: DataConversionWarning: A column-vector y was passed when a 1d array was expected. Please change the shape of y to (n_samples,), for example using ravel().\n",
            "  return self._fit(X, y)\n"
          ]
        },
        {
          "output_type": "execute_result",
          "data": {
            "text/plain": [
              "KNeighborsClassifier(n_neighbors=1)"
            ]
          },
          "metadata": {},
          "execution_count": 126
        }
      ]
    },
    {
      "cell_type": "code",
      "source": [
        "y_predict = knn.predict(X_test)\n",
        "from sklearn.metrics import mean_squared_error, classification_report, confusion_matrix"
      ],
      "metadata": {
        "id": "j8k39hpMwQQC"
      },
      "execution_count": null,
      "outputs": []
    },
    {
      "cell_type": "code",
      "source": [
        "rmse=mean_squared_error(y_test, y_predict)"
      ],
      "metadata": {
        "id": "yu26KlLPxGy3"
      },
      "execution_count": null,
      "outputs": []
    },
    {
      "cell_type": "code",
      "source": [
        "print('rmse',rmse)"
      ],
      "metadata": {
        "id": "7NjEO100xQX7",
        "colab": {
          "base_uri": "https://localhost:8080/"
        },
        "outputId": "ebb03479-1785-41a3-8e60-ce4cd0ad4de8"
      },
      "execution_count": null,
      "outputs": [
        {
          "output_type": "stream",
          "name": "stdout",
          "text": [
            "rmse 1.1335897309468632\n"
          ]
        }
      ]
    },
    {
      "cell_type": "code",
      "source": [
        "class_report = classification_report(y_test, y_predict)\n",
        "print(class_report)"
      ],
      "metadata": {
        "id": "bzijif6RxVww",
        "colab": {
          "base_uri": "https://localhost:8080/"
        },
        "outputId": "ce327c58-81b5-493e-cbb7-711fc62c4c5a"
      },
      "execution_count": null,
      "outputs": [
        {
          "output_type": "stream",
          "name": "stdout",
          "text": [
            "              precision    recall  f1-score   support\n",
            "\n",
            "           0       0.96      0.95      0.96      3232\n",
            "           1       0.93      0.90      0.92      1143\n",
            "           2       0.91      0.92      0.92      1581\n",
            "           3       0.96      0.96      0.96      8679\n",
            "           4       0.94      0.94      0.94      5205\n",
            "           5       0.94      0.96      0.95       184\n",
            "           6       0.95      0.95      0.95      3460\n",
            "           7       0.97      0.95      0.96       113\n",
            "           8       0.95      0.95      0.95     15682\n",
            "           9       0.94      0.90      0.92       460\n",
            "          10       0.96      0.97      0.96      7075\n",
            "          11       0.93      0.96      0.95      2706\n",
            "          12       0.93      0.93      0.93       684\n",
            "          13       0.95      0.97      0.96       208\n",
            "          14       0.94      0.94      0.94      8109\n",
            "          15       0.93      0.96      0.94       404\n",
            "          16       0.94      0.93      0.93      1605\n",
            "          17       0.93      0.89      0.91       313\n",
            "\n",
            "    accuracy                           0.95     60843\n",
            "   macro avg       0.94      0.94      0.94     60843\n",
            "weighted avg       0.95      0.95      0.95     60843\n",
            "\n"
          ]
        }
      ]
    },
    {
      "cell_type": "markdown",
      "source": [
        "### predict missing value"
      ],
      "metadata": {
        "id": "p67S_iZH2FKy"
      }
    },
    {
      "cell_type": "code",
      "source": [
        "features_test = test_mv.loc[:, feature]\n",
        "label = test_mv.loc[:, {'Pekerjaan'}]"
      ],
      "metadata": {
        "id": "EP-d5yeYn8bI"
      },
      "execution_count": null,
      "outputs": []
    },
    {
      "cell_type": "code",
      "source": [
        "test_mv_new = knn.predict(features_test)\n",
        "test_mv['Pekerjaan'] = test_mv_new"
      ],
      "metadata": {
        "id": "nubRuK0MoaAp",
        "colab": {
          "base_uri": "https://localhost:8080/"
        },
        "outputId": "baae19d0-888b-4156-8b1a-910d25a27b2c"
      },
      "execution_count": null,
      "outputs": [
        {
          "output_type": "stream",
          "name": "stderr",
          "text": [
            "<ipython-input-132-5f8f1bee315a>:2: SettingWithCopyWarning: \n",
            "A value is trying to be set on a copy of a slice from a DataFrame.\n",
            "Try using .loc[row_indexer,col_indexer] = value instead\n",
            "\n",
            "See the caveats in the documentation: https://pandas.pydata.org/pandas-docs/stable/user_guide/indexing.html#returning-a-view-versus-a-copy\n",
            "  test_mv['Pekerjaan'] = test_mv_new\n"
          ]
        }
      ]
    },
    {
      "cell_type": "code",
      "source": [
        "df_new = pd.concat([train_mv, test_mv], ignore_index=True)\n",
        "df_new = df_new.sort_values(by='Id_customer', ascending=True, ignore_index=True)"
      ],
      "metadata": {
        "id": "rAhF07CeyFPJ"
      },
      "execution_count": null,
      "outputs": []
    },
    {
      "cell_type": "code",
      "source": [
        "df_new['Id_customer'].nunique()"
      ],
      "metadata": {
        "id": "wla1wRMvygpO",
        "colab": {
          "base_uri": "https://localhost:8080/"
        },
        "outputId": "fb090ca6-1772-4583-9407-ab0ffc0031ee"
      },
      "execution_count": null,
      "outputs": [
        {
          "output_type": "execute_result",
          "data": {
            "text/plain": [
              "438310"
            ]
          },
          "metadata": {},
          "execution_count": 134
        }
      ]
    },
    {
      "cell_type": "code",
      "source": [
        "df_new.head()"
      ],
      "metadata": {
        "id": "vft7ELYwypuN",
        "colab": {
          "base_uri": "https://localhost:8080/",
          "height": 270
        },
        "outputId": "94775a05-9de6-4549-9a59-6b7c9756d7b6"
      },
      "execution_count": null,
      "outputs": [
        {
          "output_type": "execute_result",
          "data": {
            "text/plain": [
              "   Id_customer  JK  KepemilikanMobil  KepemilikanProperti  JmlAnak  \\\n",
              "0      5008804   0                 1                    1        0   \n",
              "1      5008805   0                 1                    1        0   \n",
              "2      5008805   0                 1                    1        0   \n",
              "3      5008806   0                 1                    1        0   \n",
              "4      5008808   1                 0                    1        0   \n",
              "\n",
              "   Pendapatan  TipePendapatan  TingkatPendidikan  StatusKeluarga  TipeRumah  \\\n",
              "0    427500.0               1                  1               2          4   \n",
              "1    427500.0               1                  1               2          4   \n",
              "2    427500.0               1                  1               2          4   \n",
              "3    112500.0               1                  0               2          3   \n",
              "4    270000.0               0                  0               0          3   \n",
              "\n",
              "   FlagMobile  FlagWorkPhone  FlagPhone  Email  Pekerjaan  JmlAnggotaKeluarga  \\\n",
              "0           1              1          0      0         10                 2.0   \n",
              "1           1              1          0      0         10                 2.0   \n",
              "2           1              1          0      0         10                 2.0   \n",
              "3           1              0          0      0         16                 2.0   \n",
              "4           1              0          1      1         14                 1.0   \n",
              "\n",
              "    Age  Experience  \n",
              "0  33.0        12.0  \n",
              "1  33.0        12.0  \n",
              "2  33.0        12.0  \n",
              "3  59.0         3.0  \n",
              "4  52.0         8.0  "
            ],
            "text/html": [
              "\n",
              "  <div id=\"df-67a929ec-f54f-4fd3-8d23-411dc38252b7\">\n",
              "    <div class=\"colab-df-container\">\n",
              "      <div>\n",
              "<style scoped>\n",
              "    .dataframe tbody tr th:only-of-type {\n",
              "        vertical-align: middle;\n",
              "    }\n",
              "\n",
              "    .dataframe tbody tr th {\n",
              "        vertical-align: top;\n",
              "    }\n",
              "\n",
              "    .dataframe thead th {\n",
              "        text-align: right;\n",
              "    }\n",
              "</style>\n",
              "<table border=\"1\" class=\"dataframe\">\n",
              "  <thead>\n",
              "    <tr style=\"text-align: right;\">\n",
              "      <th></th>\n",
              "      <th>Id_customer</th>\n",
              "      <th>JK</th>\n",
              "      <th>KepemilikanMobil</th>\n",
              "      <th>KepemilikanProperti</th>\n",
              "      <th>JmlAnak</th>\n",
              "      <th>Pendapatan</th>\n",
              "      <th>TipePendapatan</th>\n",
              "      <th>TingkatPendidikan</th>\n",
              "      <th>StatusKeluarga</th>\n",
              "      <th>TipeRumah</th>\n",
              "      <th>FlagMobile</th>\n",
              "      <th>FlagWorkPhone</th>\n",
              "      <th>FlagPhone</th>\n",
              "      <th>Email</th>\n",
              "      <th>Pekerjaan</th>\n",
              "      <th>JmlAnggotaKeluarga</th>\n",
              "      <th>Age</th>\n",
              "      <th>Experience</th>\n",
              "    </tr>\n",
              "  </thead>\n",
              "  <tbody>\n",
              "    <tr>\n",
              "      <th>0</th>\n",
              "      <td>5008804</td>\n",
              "      <td>0</td>\n",
              "      <td>1</td>\n",
              "      <td>1</td>\n",
              "      <td>0</td>\n",
              "      <td>427500.0</td>\n",
              "      <td>1</td>\n",
              "      <td>1</td>\n",
              "      <td>2</td>\n",
              "      <td>4</td>\n",
              "      <td>1</td>\n",
              "      <td>1</td>\n",
              "      <td>0</td>\n",
              "      <td>0</td>\n",
              "      <td>10</td>\n",
              "      <td>2.0</td>\n",
              "      <td>33.0</td>\n",
              "      <td>12.0</td>\n",
              "    </tr>\n",
              "    <tr>\n",
              "      <th>1</th>\n",
              "      <td>5008805</td>\n",
              "      <td>0</td>\n",
              "      <td>1</td>\n",
              "      <td>1</td>\n",
              "      <td>0</td>\n",
              "      <td>427500.0</td>\n",
              "      <td>1</td>\n",
              "      <td>1</td>\n",
              "      <td>2</td>\n",
              "      <td>4</td>\n",
              "      <td>1</td>\n",
              "      <td>1</td>\n",
              "      <td>0</td>\n",
              "      <td>0</td>\n",
              "      <td>10</td>\n",
              "      <td>2.0</td>\n",
              "      <td>33.0</td>\n",
              "      <td>12.0</td>\n",
              "    </tr>\n",
              "    <tr>\n",
              "      <th>2</th>\n",
              "      <td>5008805</td>\n",
              "      <td>0</td>\n",
              "      <td>1</td>\n",
              "      <td>1</td>\n",
              "      <td>0</td>\n",
              "      <td>427500.0</td>\n",
              "      <td>1</td>\n",
              "      <td>1</td>\n",
              "      <td>2</td>\n",
              "      <td>4</td>\n",
              "      <td>1</td>\n",
              "      <td>1</td>\n",
              "      <td>0</td>\n",
              "      <td>0</td>\n",
              "      <td>10</td>\n",
              "      <td>2.0</td>\n",
              "      <td>33.0</td>\n",
              "      <td>12.0</td>\n",
              "    </tr>\n",
              "    <tr>\n",
              "      <th>3</th>\n",
              "      <td>5008806</td>\n",
              "      <td>0</td>\n",
              "      <td>1</td>\n",
              "      <td>1</td>\n",
              "      <td>0</td>\n",
              "      <td>112500.0</td>\n",
              "      <td>1</td>\n",
              "      <td>0</td>\n",
              "      <td>2</td>\n",
              "      <td>3</td>\n",
              "      <td>1</td>\n",
              "      <td>0</td>\n",
              "      <td>0</td>\n",
              "      <td>0</td>\n",
              "      <td>16</td>\n",
              "      <td>2.0</td>\n",
              "      <td>59.0</td>\n",
              "      <td>3.0</td>\n",
              "    </tr>\n",
              "    <tr>\n",
              "      <th>4</th>\n",
              "      <td>5008808</td>\n",
              "      <td>1</td>\n",
              "      <td>0</td>\n",
              "      <td>1</td>\n",
              "      <td>0</td>\n",
              "      <td>270000.0</td>\n",
              "      <td>0</td>\n",
              "      <td>0</td>\n",
              "      <td>0</td>\n",
              "      <td>3</td>\n",
              "      <td>1</td>\n",
              "      <td>0</td>\n",
              "      <td>1</td>\n",
              "      <td>1</td>\n",
              "      <td>14</td>\n",
              "      <td>1.0</td>\n",
              "      <td>52.0</td>\n",
              "      <td>8.0</td>\n",
              "    </tr>\n",
              "  </tbody>\n",
              "</table>\n",
              "</div>\n",
              "      <button class=\"colab-df-convert\" onclick=\"convertToInteractive('df-67a929ec-f54f-4fd3-8d23-411dc38252b7')\"\n",
              "              title=\"Convert this dataframe to an interactive table.\"\n",
              "              style=\"display:none;\">\n",
              "        \n",
              "  <svg xmlns=\"http://www.w3.org/2000/svg\" height=\"24px\"viewBox=\"0 0 24 24\"\n",
              "       width=\"24px\">\n",
              "    <path d=\"M0 0h24v24H0V0z\" fill=\"none\"/>\n",
              "    <path d=\"M18.56 5.44l.94 2.06.94-2.06 2.06-.94-2.06-.94-.94-2.06-.94 2.06-2.06.94zm-11 1L8.5 8.5l.94-2.06 2.06-.94-2.06-.94L8.5 2.5l-.94 2.06-2.06.94zm10 10l.94 2.06.94-2.06 2.06-.94-2.06-.94-.94-2.06-.94 2.06-2.06.94z\"/><path d=\"M17.41 7.96l-1.37-1.37c-.4-.4-.92-.59-1.43-.59-.52 0-1.04.2-1.43.59L10.3 9.45l-7.72 7.72c-.78.78-.78 2.05 0 2.83L4 21.41c.39.39.9.59 1.41.59.51 0 1.02-.2 1.41-.59l7.78-7.78 2.81-2.81c.8-.78.8-2.07 0-2.86zM5.41 20L4 18.59l7.72-7.72 1.47 1.35L5.41 20z\"/>\n",
              "  </svg>\n",
              "      </button>\n",
              "      \n",
              "  <style>\n",
              "    .colab-df-container {\n",
              "      display:flex;\n",
              "      flex-wrap:wrap;\n",
              "      gap: 12px;\n",
              "    }\n",
              "\n",
              "    .colab-df-convert {\n",
              "      background-color: #E8F0FE;\n",
              "      border: none;\n",
              "      border-radius: 50%;\n",
              "      cursor: pointer;\n",
              "      display: none;\n",
              "      fill: #1967D2;\n",
              "      height: 32px;\n",
              "      padding: 0 0 0 0;\n",
              "      width: 32px;\n",
              "    }\n",
              "\n",
              "    .colab-df-convert:hover {\n",
              "      background-color: #E2EBFA;\n",
              "      box-shadow: 0px 1px 2px rgba(60, 64, 67, 0.3), 0px 1px 3px 1px rgba(60, 64, 67, 0.15);\n",
              "      fill: #174EA6;\n",
              "    }\n",
              "\n",
              "    [theme=dark] .colab-df-convert {\n",
              "      background-color: #3B4455;\n",
              "      fill: #D2E3FC;\n",
              "    }\n",
              "\n",
              "    [theme=dark] .colab-df-convert:hover {\n",
              "      background-color: #434B5C;\n",
              "      box-shadow: 0px 1px 3px 1px rgba(0, 0, 0, 0.15);\n",
              "      filter: drop-shadow(0px 1px 2px rgba(0, 0, 0, 0.3));\n",
              "      fill: #FFFFFF;\n",
              "    }\n",
              "  </style>\n",
              "\n",
              "      <script>\n",
              "        const buttonEl =\n",
              "          document.querySelector('#df-67a929ec-f54f-4fd3-8d23-411dc38252b7 button.colab-df-convert');\n",
              "        buttonEl.style.display =\n",
              "          google.colab.kernel.accessAllowed ? 'block' : 'none';\n",
              "\n",
              "        async function convertToInteractive(key) {\n",
              "          const element = document.querySelector('#df-67a929ec-f54f-4fd3-8d23-411dc38252b7');\n",
              "          const dataTable =\n",
              "            await google.colab.kernel.invokeFunction('convertToInteractive',\n",
              "                                                     [key], {});\n",
              "          if (!dataTable) return;\n",
              "\n",
              "          const docLinkHtml = 'Like what you see? Visit the ' +\n",
              "            '<a target=\"_blank\" href=https://colab.research.google.com/notebooks/data_table.ipynb>data table notebook</a>'\n",
              "            + ' to learn more about interactive tables.';\n",
              "          element.innerHTML = '';\n",
              "          dataTable['output_type'] = 'display_data';\n",
              "          await google.colab.output.renderOutput(dataTable, element);\n",
              "          const docLink = document.createElement('div');\n",
              "          docLink.innerHTML = docLinkHtml;\n",
              "          element.appendChild(docLink);\n",
              "        }\n",
              "      </script>\n",
              "    </div>\n",
              "  </div>\n",
              "  "
            ]
          },
          "metadata": {},
          "execution_count": 135
        }
      ]
    },
    {
      "cell_type": "code",
      "source": [
        "df_new.isnull().sum()"
      ],
      "metadata": {
        "id": "yvBr7lBcywIV",
        "colab": {
          "base_uri": "https://localhost:8080/"
        },
        "outputId": "90a3a04c-1d05-4b27-b163-7d74b745c779"
      },
      "execution_count": null,
      "outputs": [
        {
          "output_type": "execute_result",
          "data": {
            "text/plain": [
              "Id_customer            0\n",
              "JK                     0\n",
              "KepemilikanMobil       0\n",
              "KepemilikanProperti    0\n",
              "JmlAnak                0\n",
              "Pendapatan             0\n",
              "TipePendapatan         0\n",
              "TingkatPendidikan      0\n",
              "StatusKeluarga         0\n",
              "TipeRumah              0\n",
              "FlagMobile             0\n",
              "FlagWorkPhone          0\n",
              "FlagPhone              0\n",
              "Email                  0\n",
              "Pekerjaan              0\n",
              "JmlAnggotaKeluarga     0\n",
              "Age                    0\n",
              "Experience             0\n",
              "dtype: int64"
            ]
          },
          "metadata": {},
          "execution_count": 136
        }
      ]
    },
    {
      "cell_type": "markdown",
      "source": [
        "## Merge credit history dan dataset yang sudah kita handle missing valuesnya"
      ],
      "metadata": {
        "id": "NQgkeppo6Uyn"
      }
    },
    {
      "cell_type": "code",
      "source": [
        "df = df_new.merge(cr, on =\"Id_customer\", how =\"left\")"
      ],
      "metadata": {
        "id": "NFAHvZF16fqb"
      },
      "execution_count": null,
      "outputs": []
    },
    {
      "cell_type": "code",
      "source": [
        "df.head()"
      ],
      "metadata": {
        "id": "Rss4Snxg64Yw",
        "colab": {
          "base_uri": "https://localhost:8080/",
          "height": 270
        },
        "outputId": "7efb323d-e26c-487e-b611-ce5f17c768c6"
      },
      "execution_count": null,
      "outputs": [
        {
          "output_type": "execute_result",
          "data": {
            "text/plain": [
              "   Id_customer  JK  KepemilikanMobil  KepemilikanProperti  JmlAnak  \\\n",
              "0      5008804   0                 1                    1        0   \n",
              "1      5008805   0                 1                    1        0   \n",
              "2      5008805   0                 1                    1        0   \n",
              "3      5008806   0                 1                    1        0   \n",
              "4      5008808   1                 0                    1        0   \n",
              "\n",
              "   Pendapatan  TipePendapatan  TingkatPendidikan  StatusKeluarga  TipeRumah  \\\n",
              "0    427500.0               1                  1               2          4   \n",
              "1    427500.0               1                  1               2          4   \n",
              "2    427500.0               1                  1               2          4   \n",
              "3    112500.0               1                  0               2          3   \n",
              "4    270000.0               0                  0               0          3   \n",
              "\n",
              "   FlagMobile  FlagWorkPhone  FlagPhone  Email  Pekerjaan  JmlAnggotaKeluarga  \\\n",
              "0           1              1          0      0         10                 2.0   \n",
              "1           1              1          0      0         10                 2.0   \n",
              "2           1              1          0      0         10                 2.0   \n",
              "3           1              0          0      0         16                 2.0   \n",
              "4           1              0          1      1         14                 1.0   \n",
              "\n",
              "    Age  Experience  Overdue  \n",
              "0  33.0        12.0      1.0  \n",
              "1  33.0        12.0      1.0  \n",
              "2  33.0        12.0      1.0  \n",
              "3  59.0         3.0      0.0  \n",
              "4  52.0         8.0      0.0  "
            ],
            "text/html": [
              "\n",
              "  <div id=\"df-f47cd98c-49fb-4234-a32c-96d6724559b2\">\n",
              "    <div class=\"colab-df-container\">\n",
              "      <div>\n",
              "<style scoped>\n",
              "    .dataframe tbody tr th:only-of-type {\n",
              "        vertical-align: middle;\n",
              "    }\n",
              "\n",
              "    .dataframe tbody tr th {\n",
              "        vertical-align: top;\n",
              "    }\n",
              "\n",
              "    .dataframe thead th {\n",
              "        text-align: right;\n",
              "    }\n",
              "</style>\n",
              "<table border=\"1\" class=\"dataframe\">\n",
              "  <thead>\n",
              "    <tr style=\"text-align: right;\">\n",
              "      <th></th>\n",
              "      <th>Id_customer</th>\n",
              "      <th>JK</th>\n",
              "      <th>KepemilikanMobil</th>\n",
              "      <th>KepemilikanProperti</th>\n",
              "      <th>JmlAnak</th>\n",
              "      <th>Pendapatan</th>\n",
              "      <th>TipePendapatan</th>\n",
              "      <th>TingkatPendidikan</th>\n",
              "      <th>StatusKeluarga</th>\n",
              "      <th>TipeRumah</th>\n",
              "      <th>FlagMobile</th>\n",
              "      <th>FlagWorkPhone</th>\n",
              "      <th>FlagPhone</th>\n",
              "      <th>Email</th>\n",
              "      <th>Pekerjaan</th>\n",
              "      <th>JmlAnggotaKeluarga</th>\n",
              "      <th>Age</th>\n",
              "      <th>Experience</th>\n",
              "      <th>Overdue</th>\n",
              "    </tr>\n",
              "  </thead>\n",
              "  <tbody>\n",
              "    <tr>\n",
              "      <th>0</th>\n",
              "      <td>5008804</td>\n",
              "      <td>0</td>\n",
              "      <td>1</td>\n",
              "      <td>1</td>\n",
              "      <td>0</td>\n",
              "      <td>427500.0</td>\n",
              "      <td>1</td>\n",
              "      <td>1</td>\n",
              "      <td>2</td>\n",
              "      <td>4</td>\n",
              "      <td>1</td>\n",
              "      <td>1</td>\n",
              "      <td>0</td>\n",
              "      <td>0</td>\n",
              "      <td>10</td>\n",
              "      <td>2.0</td>\n",
              "      <td>33.0</td>\n",
              "      <td>12.0</td>\n",
              "      <td>1.0</td>\n",
              "    </tr>\n",
              "    <tr>\n",
              "      <th>1</th>\n",
              "      <td>5008805</td>\n",
              "      <td>0</td>\n",
              "      <td>1</td>\n",
              "      <td>1</td>\n",
              "      <td>0</td>\n",
              "      <td>427500.0</td>\n",
              "      <td>1</td>\n",
              "      <td>1</td>\n",
              "      <td>2</td>\n",
              "      <td>4</td>\n",
              "      <td>1</td>\n",
              "      <td>1</td>\n",
              "      <td>0</td>\n",
              "      <td>0</td>\n",
              "      <td>10</td>\n",
              "      <td>2.0</td>\n",
              "      <td>33.0</td>\n",
              "      <td>12.0</td>\n",
              "      <td>1.0</td>\n",
              "    </tr>\n",
              "    <tr>\n",
              "      <th>2</th>\n",
              "      <td>5008805</td>\n",
              "      <td>0</td>\n",
              "      <td>1</td>\n",
              "      <td>1</td>\n",
              "      <td>0</td>\n",
              "      <td>427500.0</td>\n",
              "      <td>1</td>\n",
              "      <td>1</td>\n",
              "      <td>2</td>\n",
              "      <td>4</td>\n",
              "      <td>1</td>\n",
              "      <td>1</td>\n",
              "      <td>0</td>\n",
              "      <td>0</td>\n",
              "      <td>10</td>\n",
              "      <td>2.0</td>\n",
              "      <td>33.0</td>\n",
              "      <td>12.0</td>\n",
              "      <td>1.0</td>\n",
              "    </tr>\n",
              "    <tr>\n",
              "      <th>3</th>\n",
              "      <td>5008806</td>\n",
              "      <td>0</td>\n",
              "      <td>1</td>\n",
              "      <td>1</td>\n",
              "      <td>0</td>\n",
              "      <td>112500.0</td>\n",
              "      <td>1</td>\n",
              "      <td>0</td>\n",
              "      <td>2</td>\n",
              "      <td>3</td>\n",
              "      <td>1</td>\n",
              "      <td>0</td>\n",
              "      <td>0</td>\n",
              "      <td>0</td>\n",
              "      <td>16</td>\n",
              "      <td>2.0</td>\n",
              "      <td>59.0</td>\n",
              "      <td>3.0</td>\n",
              "      <td>0.0</td>\n",
              "    </tr>\n",
              "    <tr>\n",
              "      <th>4</th>\n",
              "      <td>5008808</td>\n",
              "      <td>1</td>\n",
              "      <td>0</td>\n",
              "      <td>1</td>\n",
              "      <td>0</td>\n",
              "      <td>270000.0</td>\n",
              "      <td>0</td>\n",
              "      <td>0</td>\n",
              "      <td>0</td>\n",
              "      <td>3</td>\n",
              "      <td>1</td>\n",
              "      <td>0</td>\n",
              "      <td>1</td>\n",
              "      <td>1</td>\n",
              "      <td>14</td>\n",
              "      <td>1.0</td>\n",
              "      <td>52.0</td>\n",
              "      <td>8.0</td>\n",
              "      <td>0.0</td>\n",
              "    </tr>\n",
              "  </tbody>\n",
              "</table>\n",
              "</div>\n",
              "      <button class=\"colab-df-convert\" onclick=\"convertToInteractive('df-f47cd98c-49fb-4234-a32c-96d6724559b2')\"\n",
              "              title=\"Convert this dataframe to an interactive table.\"\n",
              "              style=\"display:none;\">\n",
              "        \n",
              "  <svg xmlns=\"http://www.w3.org/2000/svg\" height=\"24px\"viewBox=\"0 0 24 24\"\n",
              "       width=\"24px\">\n",
              "    <path d=\"M0 0h24v24H0V0z\" fill=\"none\"/>\n",
              "    <path d=\"M18.56 5.44l.94 2.06.94-2.06 2.06-.94-2.06-.94-.94-2.06-.94 2.06-2.06.94zm-11 1L8.5 8.5l.94-2.06 2.06-.94-2.06-.94L8.5 2.5l-.94 2.06-2.06.94zm10 10l.94 2.06.94-2.06 2.06-.94-2.06-.94-.94-2.06-.94 2.06-2.06.94z\"/><path d=\"M17.41 7.96l-1.37-1.37c-.4-.4-.92-.59-1.43-.59-.52 0-1.04.2-1.43.59L10.3 9.45l-7.72 7.72c-.78.78-.78 2.05 0 2.83L4 21.41c.39.39.9.59 1.41.59.51 0 1.02-.2 1.41-.59l7.78-7.78 2.81-2.81c.8-.78.8-2.07 0-2.86zM5.41 20L4 18.59l7.72-7.72 1.47 1.35L5.41 20z\"/>\n",
              "  </svg>\n",
              "      </button>\n",
              "      \n",
              "  <style>\n",
              "    .colab-df-container {\n",
              "      display:flex;\n",
              "      flex-wrap:wrap;\n",
              "      gap: 12px;\n",
              "    }\n",
              "\n",
              "    .colab-df-convert {\n",
              "      background-color: #E8F0FE;\n",
              "      border: none;\n",
              "      border-radius: 50%;\n",
              "      cursor: pointer;\n",
              "      display: none;\n",
              "      fill: #1967D2;\n",
              "      height: 32px;\n",
              "      padding: 0 0 0 0;\n",
              "      width: 32px;\n",
              "    }\n",
              "\n",
              "    .colab-df-convert:hover {\n",
              "      background-color: #E2EBFA;\n",
              "      box-shadow: 0px 1px 2px rgba(60, 64, 67, 0.3), 0px 1px 3px 1px rgba(60, 64, 67, 0.15);\n",
              "      fill: #174EA6;\n",
              "    }\n",
              "\n",
              "    [theme=dark] .colab-df-convert {\n",
              "      background-color: #3B4455;\n",
              "      fill: #D2E3FC;\n",
              "    }\n",
              "\n",
              "    [theme=dark] .colab-df-convert:hover {\n",
              "      background-color: #434B5C;\n",
              "      box-shadow: 0px 1px 3px 1px rgba(0, 0, 0, 0.15);\n",
              "      filter: drop-shadow(0px 1px 2px rgba(0, 0, 0, 0.3));\n",
              "      fill: #FFFFFF;\n",
              "    }\n",
              "  </style>\n",
              "\n",
              "      <script>\n",
              "        const buttonEl =\n",
              "          document.querySelector('#df-f47cd98c-49fb-4234-a32c-96d6724559b2 button.colab-df-convert');\n",
              "        buttonEl.style.display =\n",
              "          google.colab.kernel.accessAllowed ? 'block' : 'none';\n",
              "\n",
              "        async function convertToInteractive(key) {\n",
              "          const element = document.querySelector('#df-f47cd98c-49fb-4234-a32c-96d6724559b2');\n",
              "          const dataTable =\n",
              "            await google.colab.kernel.invokeFunction('convertToInteractive',\n",
              "                                                     [key], {});\n",
              "          if (!dataTable) return;\n",
              "\n",
              "          const docLinkHtml = 'Like what you see? Visit the ' +\n",
              "            '<a target=\"_blank\" href=https://colab.research.google.com/notebooks/data_table.ipynb>data table notebook</a>'\n",
              "            + ' to learn more about interactive tables.';\n",
              "          element.innerHTML = '';\n",
              "          dataTable['output_type'] = 'display_data';\n",
              "          await google.colab.output.renderOutput(dataTable, element);\n",
              "          const docLink = document.createElement('div');\n",
              "          docLink.innerHTML = docLinkHtml;\n",
              "          element.appendChild(docLink);\n",
              "        }\n",
              "      </script>\n",
              "    </div>\n",
              "  </div>\n",
              "  "
            ]
          },
          "metadata": {},
          "execution_count": 138
        }
      ]
    },
    {
      "cell_type": "code",
      "source": [
        "df.isnull().sum()"
      ],
      "metadata": {
        "id": "GUOL3kiC7C-7",
        "colab": {
          "base_uri": "https://localhost:8080/"
        },
        "outputId": "e818baae-6adb-4764-88e2-174d3f89a5c8"
      },
      "execution_count": null,
      "outputs": [
        {
          "output_type": "execute_result",
          "data": {
            "text/plain": [
              "Id_customer                 0\n",
              "JK                          0\n",
              "KepemilikanMobil            0\n",
              "KepemilikanProperti         0\n",
              "JmlAnak                     0\n",
              "Pendapatan                  0\n",
              "TipePendapatan              0\n",
              "TingkatPendidikan           0\n",
              "StatusKeluarga              0\n",
              "TipeRumah                   0\n",
              "FlagMobile                  0\n",
              "FlagWorkPhone               0\n",
              "FlagPhone                   0\n",
              "Email                       0\n",
              "Pekerjaan                   0\n",
              "JmlAnggotaKeluarga          0\n",
              "Age                         0\n",
              "Experience                  0\n",
              "Overdue                405456\n",
              "dtype: int64"
            ]
          },
          "metadata": {},
          "execution_count": 139
        }
      ]
    },
    {
      "cell_type": "markdown",
      "source": [
        "### delete row yang ada NaN"
      ],
      "metadata": {
        "id": "njS0cAP97nCG"
      }
    },
    {
      "cell_type": "code",
      "source": [
        "df = df.dropna(axis=0)"
      ],
      "metadata": {
        "id": "0EhN0nRR7N69"
      },
      "execution_count": null,
      "outputs": []
    },
    {
      "cell_type": "code",
      "source": [
        "df.describe()"
      ],
      "metadata": {
        "id": "nduj22Rd7qb3",
        "colab": {
          "base_uri": "https://localhost:8080/",
          "height": 364
        },
        "outputId": "8d39fbbb-a96e-4590-a905-573cd03691fc"
      },
      "execution_count": null,
      "outputs": [
        {
          "output_type": "execute_result",
          "data": {
            "text/plain": [
              "        Id_customer            JK  KepemilikanMobil  KepemilikanProperti  \\\n",
              "count  3.300000e+04  33000.000000      33000.000000         33000.000000   \n",
              "mean   5.077801e+06      0.670758          0.377394             0.672303   \n",
              "std    4.196603e+04      0.469945          0.484742             0.469381   \n",
              "min    5.008804e+06      0.000000          0.000000             0.000000   \n",
              "25%    5.041874e+06      0.000000          0.000000             0.000000   \n",
              "50%    5.069371e+06      1.000000          0.000000             1.000000   \n",
              "75%    5.114593e+06      1.000000          1.000000             1.000000   \n",
              "max    5.150487e+06      1.000000          1.000000             1.000000   \n",
              "\n",
              "            JmlAnak    Pendapatan  TipePendapatan  TingkatPendidikan  \\\n",
              "count  33000.000000  3.300000e+04    33000.000000       33000.000000   \n",
              "mean       0.427303  1.858030e+05        1.451909           0.290939   \n",
              "std        0.741541  1.011034e+05        1.380860           0.478188   \n",
              "min        0.000000  2.700000e+04        0.000000           0.000000   \n",
              "25%        0.000000  1.215000e+05        1.000000           0.000000   \n",
              "50%        0.000000  1.575000e+05        1.000000           0.000000   \n",
              "75%        1.000000  2.250000e+05        3.000000           1.000000   \n",
              "max       19.000000  1.575000e+06        4.000000           2.000000   \n",
              "\n",
              "       StatusKeluarga     TipeRumah  FlagMobile  FlagWorkPhone     FlagPhone  \\\n",
              "count    33000.000000  33000.000000     33000.0   33000.000000  33000.000000   \n",
              "mean         1.632909      2.852788         1.0       0.223424      0.292515   \n",
              "std          0.706583      0.604057         0.0       0.416547      0.454925   \n",
              "min          0.000000      0.000000         1.0       0.000000      0.000000   \n",
              "25%          2.000000      3.000000         1.0       0.000000      0.000000   \n",
              "50%          2.000000      3.000000         1.0       0.000000      0.000000   \n",
              "75%          2.000000      3.000000         1.0       0.000000      1.000000   \n",
              "max          2.000000      4.000000         1.0       1.000000      1.000000   \n",
              "\n",
              "              Email     Pekerjaan  JmlAnggotaKeluarga           Age  \\\n",
              "count  33000.000000  33000.000000        33000.000000  33000.000000   \n",
              "mean       0.091182      7.617758            2.194000     43.879091   \n",
              "std        0.287872      4.163484            0.911157     11.558684   \n",
              "min        0.000000      0.000000            1.000000     21.000000   \n",
              "25%        0.000000      4.000000            2.000000     34.000000   \n",
              "50%        0.000000      8.000000            2.000000     43.000000   \n",
              "75%        0.000000     10.000000            3.000000     53.000000   \n",
              "max        1.000000     17.000000           20.000000     69.000000   \n",
              "\n",
              "         Experience       Overdue  \n",
              "count  33000.000000  33000.000000  \n",
              "mean     177.815576      0.127939  \n",
              "std      374.718837      0.334027  \n",
              "min        0.000000      0.000000  \n",
              "25%        3.000000      0.000000  \n",
              "50%        7.000000      0.000000  \n",
              "75%       16.000000      0.000000  \n",
              "max     1001.000000      1.000000  "
            ],
            "text/html": [
              "\n",
              "  <div id=\"df-ba076c3f-09c4-4647-a5a6-e572c384aaf2\">\n",
              "    <div class=\"colab-df-container\">\n",
              "      <div>\n",
              "<style scoped>\n",
              "    .dataframe tbody tr th:only-of-type {\n",
              "        vertical-align: middle;\n",
              "    }\n",
              "\n",
              "    .dataframe tbody tr th {\n",
              "        vertical-align: top;\n",
              "    }\n",
              "\n",
              "    .dataframe thead th {\n",
              "        text-align: right;\n",
              "    }\n",
              "</style>\n",
              "<table border=\"1\" class=\"dataframe\">\n",
              "  <thead>\n",
              "    <tr style=\"text-align: right;\">\n",
              "      <th></th>\n",
              "      <th>Id_customer</th>\n",
              "      <th>JK</th>\n",
              "      <th>KepemilikanMobil</th>\n",
              "      <th>KepemilikanProperti</th>\n",
              "      <th>JmlAnak</th>\n",
              "      <th>Pendapatan</th>\n",
              "      <th>TipePendapatan</th>\n",
              "      <th>TingkatPendidikan</th>\n",
              "      <th>StatusKeluarga</th>\n",
              "      <th>TipeRumah</th>\n",
              "      <th>FlagMobile</th>\n",
              "      <th>FlagWorkPhone</th>\n",
              "      <th>FlagPhone</th>\n",
              "      <th>Email</th>\n",
              "      <th>Pekerjaan</th>\n",
              "      <th>JmlAnggotaKeluarga</th>\n",
              "      <th>Age</th>\n",
              "      <th>Experience</th>\n",
              "      <th>Overdue</th>\n",
              "    </tr>\n",
              "  </thead>\n",
              "  <tbody>\n",
              "    <tr>\n",
              "      <th>count</th>\n",
              "      <td>3.300000e+04</td>\n",
              "      <td>33000.000000</td>\n",
              "      <td>33000.000000</td>\n",
              "      <td>33000.000000</td>\n",
              "      <td>33000.000000</td>\n",
              "      <td>3.300000e+04</td>\n",
              "      <td>33000.000000</td>\n",
              "      <td>33000.000000</td>\n",
              "      <td>33000.000000</td>\n",
              "      <td>33000.000000</td>\n",
              "      <td>33000.0</td>\n",
              "      <td>33000.000000</td>\n",
              "      <td>33000.000000</td>\n",
              "      <td>33000.000000</td>\n",
              "      <td>33000.000000</td>\n",
              "      <td>33000.000000</td>\n",
              "      <td>33000.000000</td>\n",
              "      <td>33000.000000</td>\n",
              "      <td>33000.000000</td>\n",
              "    </tr>\n",
              "    <tr>\n",
              "      <th>mean</th>\n",
              "      <td>5.077801e+06</td>\n",
              "      <td>0.670758</td>\n",
              "      <td>0.377394</td>\n",
              "      <td>0.672303</td>\n",
              "      <td>0.427303</td>\n",
              "      <td>1.858030e+05</td>\n",
              "      <td>1.451909</td>\n",
              "      <td>0.290939</td>\n",
              "      <td>1.632909</td>\n",
              "      <td>2.852788</td>\n",
              "      <td>1.0</td>\n",
              "      <td>0.223424</td>\n",
              "      <td>0.292515</td>\n",
              "      <td>0.091182</td>\n",
              "      <td>7.617758</td>\n",
              "      <td>2.194000</td>\n",
              "      <td>43.879091</td>\n",
              "      <td>177.815576</td>\n",
              "      <td>0.127939</td>\n",
              "    </tr>\n",
              "    <tr>\n",
              "      <th>std</th>\n",
              "      <td>4.196603e+04</td>\n",
              "      <td>0.469945</td>\n",
              "      <td>0.484742</td>\n",
              "      <td>0.469381</td>\n",
              "      <td>0.741541</td>\n",
              "      <td>1.011034e+05</td>\n",
              "      <td>1.380860</td>\n",
              "      <td>0.478188</td>\n",
              "      <td>0.706583</td>\n",
              "      <td>0.604057</td>\n",
              "      <td>0.0</td>\n",
              "      <td>0.416547</td>\n",
              "      <td>0.454925</td>\n",
              "      <td>0.287872</td>\n",
              "      <td>4.163484</td>\n",
              "      <td>0.911157</td>\n",
              "      <td>11.558684</td>\n",
              "      <td>374.718837</td>\n",
              "      <td>0.334027</td>\n",
              "    </tr>\n",
              "    <tr>\n",
              "      <th>min</th>\n",
              "      <td>5.008804e+06</td>\n",
              "      <td>0.000000</td>\n",
              "      <td>0.000000</td>\n",
              "      <td>0.000000</td>\n",
              "      <td>0.000000</td>\n",
              "      <td>2.700000e+04</td>\n",
              "      <td>0.000000</td>\n",
              "      <td>0.000000</td>\n",
              "      <td>0.000000</td>\n",
              "      <td>0.000000</td>\n",
              "      <td>1.0</td>\n",
              "      <td>0.000000</td>\n",
              "      <td>0.000000</td>\n",
              "      <td>0.000000</td>\n",
              "      <td>0.000000</td>\n",
              "      <td>1.000000</td>\n",
              "      <td>21.000000</td>\n",
              "      <td>0.000000</td>\n",
              "      <td>0.000000</td>\n",
              "    </tr>\n",
              "    <tr>\n",
              "      <th>25%</th>\n",
              "      <td>5.041874e+06</td>\n",
              "      <td>0.000000</td>\n",
              "      <td>0.000000</td>\n",
              "      <td>0.000000</td>\n",
              "      <td>0.000000</td>\n",
              "      <td>1.215000e+05</td>\n",
              "      <td>1.000000</td>\n",
              "      <td>0.000000</td>\n",
              "      <td>2.000000</td>\n",
              "      <td>3.000000</td>\n",
              "      <td>1.0</td>\n",
              "      <td>0.000000</td>\n",
              "      <td>0.000000</td>\n",
              "      <td>0.000000</td>\n",
              "      <td>4.000000</td>\n",
              "      <td>2.000000</td>\n",
              "      <td>34.000000</td>\n",
              "      <td>3.000000</td>\n",
              "      <td>0.000000</td>\n",
              "    </tr>\n",
              "    <tr>\n",
              "      <th>50%</th>\n",
              "      <td>5.069371e+06</td>\n",
              "      <td>1.000000</td>\n",
              "      <td>0.000000</td>\n",
              "      <td>1.000000</td>\n",
              "      <td>0.000000</td>\n",
              "      <td>1.575000e+05</td>\n",
              "      <td>1.000000</td>\n",
              "      <td>0.000000</td>\n",
              "      <td>2.000000</td>\n",
              "      <td>3.000000</td>\n",
              "      <td>1.0</td>\n",
              "      <td>0.000000</td>\n",
              "      <td>0.000000</td>\n",
              "      <td>0.000000</td>\n",
              "      <td>8.000000</td>\n",
              "      <td>2.000000</td>\n",
              "      <td>43.000000</td>\n",
              "      <td>7.000000</td>\n",
              "      <td>0.000000</td>\n",
              "    </tr>\n",
              "    <tr>\n",
              "      <th>75%</th>\n",
              "      <td>5.114593e+06</td>\n",
              "      <td>1.000000</td>\n",
              "      <td>1.000000</td>\n",
              "      <td>1.000000</td>\n",
              "      <td>1.000000</td>\n",
              "      <td>2.250000e+05</td>\n",
              "      <td>3.000000</td>\n",
              "      <td>1.000000</td>\n",
              "      <td>2.000000</td>\n",
              "      <td>3.000000</td>\n",
              "      <td>1.0</td>\n",
              "      <td>0.000000</td>\n",
              "      <td>1.000000</td>\n",
              "      <td>0.000000</td>\n",
              "      <td>10.000000</td>\n",
              "      <td>3.000000</td>\n",
              "      <td>53.000000</td>\n",
              "      <td>16.000000</td>\n",
              "      <td>0.000000</td>\n",
              "    </tr>\n",
              "    <tr>\n",
              "      <th>max</th>\n",
              "      <td>5.150487e+06</td>\n",
              "      <td>1.000000</td>\n",
              "      <td>1.000000</td>\n",
              "      <td>1.000000</td>\n",
              "      <td>19.000000</td>\n",
              "      <td>1.575000e+06</td>\n",
              "      <td>4.000000</td>\n",
              "      <td>2.000000</td>\n",
              "      <td>2.000000</td>\n",
              "      <td>4.000000</td>\n",
              "      <td>1.0</td>\n",
              "      <td>1.000000</td>\n",
              "      <td>1.000000</td>\n",
              "      <td>1.000000</td>\n",
              "      <td>17.000000</td>\n",
              "      <td>20.000000</td>\n",
              "      <td>69.000000</td>\n",
              "      <td>1001.000000</td>\n",
              "      <td>1.000000</td>\n",
              "    </tr>\n",
              "  </tbody>\n",
              "</table>\n",
              "</div>\n",
              "      <button class=\"colab-df-convert\" onclick=\"convertToInteractive('df-ba076c3f-09c4-4647-a5a6-e572c384aaf2')\"\n",
              "              title=\"Convert this dataframe to an interactive table.\"\n",
              "              style=\"display:none;\">\n",
              "        \n",
              "  <svg xmlns=\"http://www.w3.org/2000/svg\" height=\"24px\"viewBox=\"0 0 24 24\"\n",
              "       width=\"24px\">\n",
              "    <path d=\"M0 0h24v24H0V0z\" fill=\"none\"/>\n",
              "    <path d=\"M18.56 5.44l.94 2.06.94-2.06 2.06-.94-2.06-.94-.94-2.06-.94 2.06-2.06.94zm-11 1L8.5 8.5l.94-2.06 2.06-.94-2.06-.94L8.5 2.5l-.94 2.06-2.06.94zm10 10l.94 2.06.94-2.06 2.06-.94-2.06-.94-.94-2.06-.94 2.06-2.06.94z\"/><path d=\"M17.41 7.96l-1.37-1.37c-.4-.4-.92-.59-1.43-.59-.52 0-1.04.2-1.43.59L10.3 9.45l-7.72 7.72c-.78.78-.78 2.05 0 2.83L4 21.41c.39.39.9.59 1.41.59.51 0 1.02-.2 1.41-.59l7.78-7.78 2.81-2.81c.8-.78.8-2.07 0-2.86zM5.41 20L4 18.59l7.72-7.72 1.47 1.35L5.41 20z\"/>\n",
              "  </svg>\n",
              "      </button>\n",
              "      \n",
              "  <style>\n",
              "    .colab-df-container {\n",
              "      display:flex;\n",
              "      flex-wrap:wrap;\n",
              "      gap: 12px;\n",
              "    }\n",
              "\n",
              "    .colab-df-convert {\n",
              "      background-color: #E8F0FE;\n",
              "      border: none;\n",
              "      border-radius: 50%;\n",
              "      cursor: pointer;\n",
              "      display: none;\n",
              "      fill: #1967D2;\n",
              "      height: 32px;\n",
              "      padding: 0 0 0 0;\n",
              "      width: 32px;\n",
              "    }\n",
              "\n",
              "    .colab-df-convert:hover {\n",
              "      background-color: #E2EBFA;\n",
              "      box-shadow: 0px 1px 2px rgba(60, 64, 67, 0.3), 0px 1px 3px 1px rgba(60, 64, 67, 0.15);\n",
              "      fill: #174EA6;\n",
              "    }\n",
              "\n",
              "    [theme=dark] .colab-df-convert {\n",
              "      background-color: #3B4455;\n",
              "      fill: #D2E3FC;\n",
              "    }\n",
              "\n",
              "    [theme=dark] .colab-df-convert:hover {\n",
              "      background-color: #434B5C;\n",
              "      box-shadow: 0px 1px 3px 1px rgba(0, 0, 0, 0.15);\n",
              "      filter: drop-shadow(0px 1px 2px rgba(0, 0, 0, 0.3));\n",
              "      fill: #FFFFFF;\n",
              "    }\n",
              "  </style>\n",
              "\n",
              "      <script>\n",
              "        const buttonEl =\n",
              "          document.querySelector('#df-ba076c3f-09c4-4647-a5a6-e572c384aaf2 button.colab-df-convert');\n",
              "        buttonEl.style.display =\n",
              "          google.colab.kernel.accessAllowed ? 'block' : 'none';\n",
              "\n",
              "        async function convertToInteractive(key) {\n",
              "          const element = document.querySelector('#df-ba076c3f-09c4-4647-a5a6-e572c384aaf2');\n",
              "          const dataTable =\n",
              "            await google.colab.kernel.invokeFunction('convertToInteractive',\n",
              "                                                     [key], {});\n",
              "          if (!dataTable) return;\n",
              "\n",
              "          const docLinkHtml = 'Like what you see? Visit the ' +\n",
              "            '<a target=\"_blank\" href=https://colab.research.google.com/notebooks/data_table.ipynb>data table notebook</a>'\n",
              "            + ' to learn more about interactive tables.';\n",
              "          element.innerHTML = '';\n",
              "          dataTable['output_type'] = 'display_data';\n",
              "          await google.colab.output.renderOutput(dataTable, element);\n",
              "          const docLink = document.createElement('div');\n",
              "          docLink.innerHTML = docLinkHtml;\n",
              "          element.appendChild(docLink);\n",
              "        }\n",
              "      </script>\n",
              "    </div>\n",
              "  </div>\n",
              "  "
            ]
          },
          "metadata": {},
          "execution_count": 141
        }
      ]
    },
    {
      "cell_type": "code",
      "source": [
        "df.Id_customer.value_counts()"
      ],
      "metadata": {
        "id": "lStuW6Uo7sSy",
        "colab": {
          "base_uri": "https://localhost:8080/"
        },
        "outputId": "469d1497-cd72-4477-96e8-945ea82a2ff7"
      },
      "execution_count": null,
      "outputs": [
        {
          "output_type": "execute_result",
          "data": {
            "text/plain": [
              "5009022    2\n",
              "5009170    2\n",
              "5009371    2\n",
              "5009370    2\n",
              "5009369    2\n",
              "          ..\n",
              "5052932    1\n",
              "5052931    1\n",
              "5052930    1\n",
              "5052929    1\n",
              "5150487    1\n",
              "Name: Id_customer, Length: 32910, dtype: int64"
            ]
          },
          "metadata": {},
          "execution_count": 142
        }
      ]
    },
    {
      "cell_type": "code",
      "source": [
        "df.Overdue.value_counts()"
      ],
      "metadata": {
        "id": "5MCd4RXNIror",
        "colab": {
          "base_uri": "https://localhost:8080/"
        },
        "outputId": "b7e741e8-9853-4e2a-dec2-a1635506d58b"
      },
      "execution_count": null,
      "outputs": [
        {
          "output_type": "execute_result",
          "data": {
            "text/plain": [
              "0.0    28778\n",
              "1.0     4222\n",
              "Name: Overdue, dtype: int64"
            ]
          },
          "metadata": {},
          "execution_count": 143
        }
      ]
    },
    {
      "cell_type": "code",
      "source": [
        "df.shape[0]"
      ],
      "metadata": {
        "id": "XIRbyFX6AlFB",
        "colab": {
          "base_uri": "https://localhost:8080/"
        },
        "outputId": "ba118d8c-f873-4362-ff56-a2ef5f012f4f"
      },
      "execution_count": null,
      "outputs": [
        {
          "output_type": "execute_result",
          "data": {
            "text/plain": [
              "33000"
            ]
          },
          "metadata": {},
          "execution_count": 144
        }
      ]
    },
    {
      "cell_type": "code",
      "source": [
        "df = df.drop_duplicates()"
      ],
      "metadata": {
        "id": "VsfAJiOt7-SK"
      },
      "execution_count": null,
      "outputs": []
    },
    {
      "cell_type": "code",
      "source": [
        "df.Id_customer.value_counts()"
      ],
      "metadata": {
        "id": "jElqEMTT_vmI",
        "colab": {
          "base_uri": "https://localhost:8080/"
        },
        "outputId": "589a9da0-d0ec-49c9-8f88-89cb9434e635"
      },
      "execution_count": null,
      "outputs": [
        {
          "output_type": "execute_result",
          "data": {
            "text/plain": [
              "5008804    1\n",
              "5100042    1\n",
              "5099999    1\n",
              "5099993    1\n",
              "5099991    1\n",
              "          ..\n",
              "5052850    1\n",
              "5052849    1\n",
              "5052848    1\n",
              "5052847    1\n",
              "5150487    1\n",
              "Name: Id_customer, Length: 32910, dtype: int64"
            ]
          },
          "metadata": {},
          "execution_count": 146
        }
      ]
    },
    {
      "cell_type": "code",
      "source": [
        "df.shape[0]"
      ],
      "metadata": {
        "id": "8AHimDa3APJu",
        "colab": {
          "base_uri": "https://localhost:8080/"
        },
        "outputId": "20088dfb-4aed-4199-e200-7d29ce38f76b"
      },
      "execution_count": null,
      "outputs": [
        {
          "output_type": "execute_result",
          "data": {
            "text/plain": [
              "32910"
            ]
          },
          "metadata": {},
          "execution_count": 147
        }
      ]
    },
    {
      "cell_type": "code",
      "source": [
        "df.to_csv('Datasets.csv')"
      ],
      "metadata": {
        "id": "bk0TbBmQLNnI"
      },
      "execution_count": null,
      "outputs": []
    },
    {
      "cell_type": "code",
      "source": [
        "#files.download('Datasets.csv')"
      ],
      "metadata": {
        "id": "XwKTgkuvLXEz"
      },
      "execution_count": null,
      "outputs": []
    },
    {
      "cell_type": "markdown",
      "source": [
        "# Build Model"
      ],
      "metadata": {
        "id": "bvs75uEkBb9p"
      }
    },
    {
      "cell_type": "markdown",
      "source": [
        "## Melihat korelasi tiap column terhadap overdue"
      ],
      "metadata": {
        "id": "dgunMp7GE7cP"
      }
    },
    {
      "cell_type": "code",
      "source": [
        "corr_col = df.corr()"
      ],
      "metadata": {
        "id": "s3NVlHhwBeCJ"
      },
      "execution_count": null,
      "outputs": []
    },
    {
      "cell_type": "code",
      "source": [
        "corr_col['Overdue']"
      ],
      "metadata": {
        "id": "_Hx_a7jlCBq8",
        "colab": {
          "base_uri": "https://localhost:8080/"
        },
        "outputId": "563a766a-af7b-4e93-be7c-08a7657c95e9"
      },
      "execution_count": null,
      "outputs": [
        {
          "output_type": "execute_result",
          "data": {
            "text/plain": [
              "Id_customer            0.005444\n",
              "JK                    -0.023770\n",
              "KepemilikanMobil      -0.009119\n",
              "KepemilikanProperti   -0.031034\n",
              "JmlAnak                0.013482\n",
              "Pendapatan             0.028256\n",
              "TipePendapatan        -0.019906\n",
              "TingkatPendidikan     -0.002836\n",
              "StatusKeluarga        -0.006619\n",
              "TipeRumah             -0.011112\n",
              "FlagMobile                  NaN\n",
              "FlagWorkPhone          0.001318\n",
              "FlagPhone             -0.005236\n",
              "Email                  0.019464\n",
              "Pekerjaan             -0.000981\n",
              "JmlAnggotaKeluarga     0.011236\n",
              "Age                   -0.033856\n",
              "Experience            -0.025959\n",
              "Overdue                1.000000\n",
              "Name: Overdue, dtype: float64"
            ]
          },
          "metadata": {},
          "execution_count": 151
        }
      ]
    },
    {
      "cell_type": "code",
      "source": [
        "feature = []\n",
        "for i in df.columns:\n",
        "  if i not in ['Overdue', 'Id_customer', 'FlagMobile']:\n",
        "    feature.append(i)\n",
        "feature"
      ],
      "metadata": {
        "id": "JNZz0FSrCD80",
        "colab": {
          "base_uri": "https://localhost:8080/"
        },
        "outputId": "4436702a-e5ae-46be-b0a1-468fd2ebffc3"
      },
      "execution_count": null,
      "outputs": [
        {
          "output_type": "execute_result",
          "data": {
            "text/plain": [
              "['JK',\n",
              " 'KepemilikanMobil',\n",
              " 'KepemilikanProperti',\n",
              " 'JmlAnak',\n",
              " 'Pendapatan',\n",
              " 'TipePendapatan',\n",
              " 'TingkatPendidikan',\n",
              " 'StatusKeluarga',\n",
              " 'TipeRumah',\n",
              " 'FlagWorkPhone',\n",
              " 'FlagPhone',\n",
              " 'Email',\n",
              " 'Pekerjaan',\n",
              " 'JmlAnggotaKeluarga',\n",
              " 'Age',\n",
              " 'Experience']"
            ]
          },
          "metadata": {},
          "execution_count": 152
        }
      ]
    },
    {
      "cell_type": "code",
      "source": [
        "x = df.loc[:, feature]\n",
        "y = df.loc[:, ['Overdue']]"
      ],
      "metadata": {
        "id": "9P0qrxqVCbxz"
      },
      "execution_count": null,
      "outputs": []
    },
    {
      "cell_type": "code",
      "source": [
        "X_train, X_test, y_train, y_test = train_test_split(x, y, test_size = 0.2)"
      ],
      "metadata": {
        "id": "bZXG9BVrCn7h"
      },
      "execution_count": null,
      "outputs": []
    },
    {
      "cell_type": "markdown",
      "source": [
        "## Naive Bayes"
      ],
      "metadata": {
        "id": "OAs_1GiyFC2c"
      }
    },
    {
      "cell_type": "code",
      "source": [
        "from sklearn.naive_bayes import GaussianNB"
      ],
      "metadata": {
        "id": "n1DHNtfkDAgl"
      },
      "execution_count": null,
      "outputs": []
    },
    {
      "cell_type": "code",
      "source": [
        "nb = GaussianNB()"
      ],
      "metadata": {
        "id": "r5f7iCUNNVqS"
      },
      "execution_count": null,
      "outputs": []
    },
    {
      "cell_type": "code",
      "source": [
        "y_train_1d = np.ravel(y_train)"
      ],
      "metadata": {
        "id": "bAIsKK2ZNYS5"
      },
      "execution_count": null,
      "outputs": []
    },
    {
      "cell_type": "code",
      "source": [
        "nb.fit(X_train, y_train_1d)"
      ],
      "metadata": {
        "id": "usE14V1nNaNH",
        "colab": {
          "base_uri": "https://localhost:8080/"
        },
        "outputId": "f041b18c-6345-4801-990e-6b82aa25295e"
      },
      "execution_count": null,
      "outputs": [
        {
          "output_type": "execute_result",
          "data": {
            "text/plain": [
              "GaussianNB()"
            ]
          },
          "metadata": {},
          "execution_count": 158
        }
      ]
    },
    {
      "cell_type": "code",
      "source": [
        "accuracy = nb.score(X_test, y_test)\n",
        "print(\"Accuracy:\", accuracy)"
      ],
      "metadata": {
        "id": "7OwqnYyxFxWD",
        "colab": {
          "base_uri": "https://localhost:8080/"
        },
        "outputId": "56b69d1f-b0a3-46cf-9e8f-92e480989247"
      },
      "execution_count": null,
      "outputs": [
        {
          "output_type": "stream",
          "name": "stdout",
          "text": [
            "Accuracy: 0.8614402917046491\n"
          ]
        }
      ]
    },
    {
      "cell_type": "code",
      "source": [
        "from sklearn.metrics import classification_report\n",
        "\n",
        "test = nb.predict(X_test)\n",
        "\n",
        "print (\"Testing selesai\")\n",
        "\n",
        "print(classification_report(y_test, test))"
      ],
      "metadata": {
        "id": "TrKabK5ZEHHc",
        "colab": {
          "base_uri": "https://localhost:8080/"
        },
        "outputId": "1a3de17f-beb3-42e3-9541-ae95fbd42924"
      },
      "execution_count": null,
      "outputs": [
        {
          "output_type": "stream",
          "name": "stdout",
          "text": [
            "Testing selesai\n",
            "              precision    recall  f1-score   support\n",
            "\n",
            "         0.0       0.87      0.99      0.93      5704\n",
            "         1.0       0.20      0.01      0.02       878\n",
            "\n",
            "    accuracy                           0.86      6582\n",
            "   macro avg       0.53      0.50      0.47      6582\n",
            "weighted avg       0.78      0.86      0.81      6582\n",
            "\n"
          ]
        }
      ]
    },
    {
      "cell_type": "markdown",
      "source": [
        "## Logistic Regression"
      ],
      "metadata": {
        "id": "-jpyxSqKFG-s"
      }
    },
    {
      "cell_type": "code",
      "source": [
        "from sklearn.linear_model import LogisticRegression\n",
        "from sklearn.preprocessing import StandardScaler"
      ],
      "metadata": {
        "id": "3TaXM3cYFGrt"
      },
      "execution_count": null,
      "outputs": []
    },
    {
      "cell_type": "code",
      "source": [
        "scaler = StandardScaler()"
      ],
      "metadata": {
        "id": "eO6AevloEJmR"
      },
      "execution_count": null,
      "outputs": []
    },
    {
      "cell_type": "code",
      "source": [
        "X_train = scaler.fit_transform(X_train)\n",
        "X_test = scaler.transform(X_test)"
      ],
      "metadata": {
        "id": "uiCNb_1OEwbI"
      },
      "execution_count": null,
      "outputs": []
    },
    {
      "cell_type": "code",
      "source": [
        "lr = LogisticRegression()"
      ],
      "metadata": {
        "id": "WKseiC9GFjMp"
      },
      "execution_count": null,
      "outputs": []
    },
    {
      "cell_type": "code",
      "source": [
        "lr.fit(X_train, y_train_1d)"
      ],
      "metadata": {
        "id": "jbW13kiXFlan",
        "colab": {
          "base_uri": "https://localhost:8080/"
        },
        "outputId": "b5ef12b9-3d80-4548-8983-8a3b4272e787"
      },
      "execution_count": null,
      "outputs": [
        {
          "output_type": "execute_result",
          "data": {
            "text/plain": [
              "LogisticRegression()"
            ]
          },
          "metadata": {},
          "execution_count": 165
        }
      ]
    },
    {
      "cell_type": "code",
      "source": [
        "y_pred = lr.predict(X_test)"
      ],
      "metadata": {
        "id": "HeJLp5vfFmw4"
      },
      "execution_count": null,
      "outputs": []
    },
    {
      "cell_type": "code",
      "source": [
        "accuracy = lr.score(X_test, y_test)\n",
        "print(\"Accuracy:\", accuracy)"
      ],
      "metadata": {
        "id": "60GV9Y0vFs3Y",
        "colab": {
          "base_uri": "https://localhost:8080/"
        },
        "outputId": "87ee97fb-bd0f-4367-c19b-2141b2c831b9"
      },
      "execution_count": null,
      "outputs": [
        {
          "output_type": "stream",
          "name": "stdout",
          "text": [
            "Accuracy: 0.8666058948647828\n"
          ]
        }
      ]
    },
    {
      "cell_type": "code",
      "source": [
        "test = lr.predict(X_test)\n",
        "\n",
        "print (\"Testing selesai\")\n",
        "\n",
        "print(classification_report(y_test, test))"
      ],
      "metadata": {
        "id": "lxFvU8tWFukp",
        "colab": {
          "base_uri": "https://localhost:8080/"
        },
        "outputId": "3938ad8a-d036-4cc0-c3f6-d5f150bc7cb6"
      },
      "execution_count": null,
      "outputs": [
        {
          "output_type": "stream",
          "name": "stdout",
          "text": [
            "Testing selesai\n",
            "              precision    recall  f1-score   support\n",
            "\n",
            "         0.0       0.87      1.00      0.93      5704\n",
            "         1.0       0.00      0.00      0.00       878\n",
            "\n",
            "    accuracy                           0.87      6582\n",
            "   macro avg       0.43      0.50      0.46      6582\n",
            "weighted avg       0.75      0.87      0.80      6582\n",
            "\n"
          ]
        },
        {
          "output_type": "stream",
          "name": "stderr",
          "text": [
            "/usr/local/lib/python3.8/dist-packages/sklearn/metrics/_classification.py:1318: UndefinedMetricWarning: Precision and F-score are ill-defined and being set to 0.0 in labels with no predicted samples. Use `zero_division` parameter to control this behavior.\n",
            "  _warn_prf(average, modifier, msg_start, len(result))\n",
            "/usr/local/lib/python3.8/dist-packages/sklearn/metrics/_classification.py:1318: UndefinedMetricWarning: Precision and F-score are ill-defined and being set to 0.0 in labels with no predicted samples. Use `zero_division` parameter to control this behavior.\n",
            "  _warn_prf(average, modifier, msg_start, len(result))\n",
            "/usr/local/lib/python3.8/dist-packages/sklearn/metrics/_classification.py:1318: UndefinedMetricWarning: Precision and F-score are ill-defined and being set to 0.0 in labels with no predicted samples. Use `zero_division` parameter to control this behavior.\n",
            "  _warn_prf(average, modifier, msg_start, len(result))\n"
          ]
        }
      ]
    },
    {
      "cell_type": "markdown",
      "source": [
        "## Random Forest"
      ],
      "metadata": {
        "id": "WM71ppQvGmWE"
      }
    },
    {
      "cell_type": "code",
      "source": [
        "import pandas as pd\n",
        "from sklearn.ensemble import RandomForestClassifier\n",
        "from sklearn.model_selection import train_test_split\n",
        "\n",
        "X_train, X_test, y_train, y_test = train_test_split(x, y, test_size=0.2, random_state=42)"
      ],
      "metadata": {
        "id": "TY79dTsmGlS2"
      },
      "execution_count": null,
      "outputs": []
    },
    {
      "cell_type": "code",
      "source": [
        "rf = RandomForestClassifier(n_estimators=100, random_state=42)"
      ],
      "metadata": {
        "id": "aifzd3TcGxsG"
      },
      "execution_count": null,
      "outputs": []
    },
    {
      "cell_type": "code",
      "source": [
        "rf.fit(X_train,y_train_1d)"
      ],
      "metadata": {
        "id": "YFtGd2WeHG1M",
        "colab": {
          "base_uri": "https://localhost:8080/"
        },
        "outputId": "74ac9de9-4d1a-41e5-d732-f506859f390f"
      },
      "execution_count": null,
      "outputs": [
        {
          "output_type": "execute_result",
          "data": {
            "text/plain": [
              "RandomForestClassifier(random_state=42)"
            ]
          },
          "metadata": {},
          "execution_count": 171
        }
      ]
    },
    {
      "cell_type": "code",
      "source": [
        "y_pred = rf.predict(X_test)"
      ],
      "metadata": {
        "id": "zYM5UtTOGy-G"
      },
      "execution_count": null,
      "outputs": []
    },
    {
      "cell_type": "code",
      "source": [
        "accuracy = rf.score(X_test, y_test)\n",
        "print(f'Model accuracy: {accuracy:.2f}')"
      ],
      "metadata": {
        "id": "ElXc9-_rG2zg",
        "colab": {
          "base_uri": "https://localhost:8080/"
        },
        "outputId": "f7c81487-8e7d-4cdd-ebc6-770e0c6465b9"
      },
      "execution_count": null,
      "outputs": [
        {
          "output_type": "stream",
          "name": "stdout",
          "text": [
            "Model accuracy: 0.85\n"
          ]
        }
      ]
    },
    {
      "cell_type": "code",
      "source": [
        "test = rf.predict(X_test)\n",
        "\n",
        "print (\"Testing selesai\")\n",
        "\n",
        "print(classification_report(y_test, test))"
      ],
      "metadata": {
        "id": "q77e7B9yHOST",
        "colab": {
          "base_uri": "https://localhost:8080/"
        },
        "outputId": "08e146fa-71a7-4cd9-e330-5e3c6e16dd8e"
      },
      "execution_count": null,
      "outputs": [
        {
          "output_type": "stream",
          "name": "stdout",
          "text": [
            "Testing selesai\n",
            "              precision    recall  f1-score   support\n",
            "\n",
            "         0.0       0.87      0.97      0.92      5723\n",
            "         1.0       0.10      0.02      0.04       859\n",
            "\n",
            "    accuracy                           0.85      6582\n",
            "   macro avg       0.49      0.50      0.48      6582\n",
            "weighted avg       0.77      0.85      0.80      6582\n",
            "\n"
          ]
        }
      ]
    },
    {
      "cell_type": "markdown",
      "source": [
        "## SVM"
      ],
      "metadata": {
        "id": "M64jx3zqRnNk"
      }
    },
    {
      "cell_type": "code",
      "source": [
        "from sklearn.svm import SVC"
      ],
      "metadata": {
        "id": "M9_Txr8HQpmA"
      },
      "execution_count": null,
      "outputs": []
    },
    {
      "cell_type": "code",
      "source": [
        "X_train, X_test, y_train, y_test = train_test_split(x, y, test_size=0.2, random_state=2)"
      ],
      "metadata": {
        "id": "8kNjWHAlRwKB"
      },
      "execution_count": null,
      "outputs": []
    },
    {
      "cell_type": "code",
      "source": [
        "y_train_1d = np.ravel(y_train)"
      ],
      "metadata": {
        "id": "MIf-_SBaR3Ee"
      },
      "execution_count": null,
      "outputs": []
    },
    {
      "cell_type": "code",
      "source": [
        "model = SVC(kernel='linear', random_state=42)"
      ],
      "metadata": {
        "id": "3ZKd_GbGR5-g"
      },
      "execution_count": null,
      "outputs": []
    },
    {
      "cell_type": "code",
      "source": [
        "#model.fit(X_train,y_train_1d)"
      ],
      "metadata": {
        "id": "zDiDSwCdUYfn"
      },
      "execution_count": null,
      "outputs": []
    },
    {
      "cell_type": "code",
      "source": [
        "#y_pred = model.predict(X_test)"
      ],
      "metadata": {
        "id": "C-uOkHixWhrU"
      },
      "execution_count": null,
      "outputs": []
    },
    {
      "cell_type": "code",
      "source": [
        "#accuracy = model.score(X_test, y_test)\n",
        "print(f'Model accuracy: {accuracy:.2f}')"
      ],
      "metadata": {
        "id": "WmWD4f-0YzQp",
        "colab": {
          "base_uri": "https://localhost:8080/"
        },
        "outputId": "e8e8e121-a563-43f9-cd9d-45acf890b68d"
      },
      "execution_count": null,
      "outputs": [
        {
          "output_type": "stream",
          "name": "stdout",
          "text": [
            "Model accuracy: 0.85\n"
          ]
        }
      ]
    },
    {
      "cell_type": "code",
      "source": [
        "#test = model.predict(X_test)\n",
        "\n",
        "#print (\"Testing selesai\")\n",
        "\n",
        "print(classification_report(y_test, test))"
      ],
      "metadata": {
        "id": "g5Zdn6-uY-vz",
        "colab": {
          "base_uri": "https://localhost:8080/"
        },
        "outputId": "6b6edcf9-f442-4f17-9e1f-5ed768d184c2"
      },
      "execution_count": null,
      "outputs": [
        {
          "output_type": "stream",
          "name": "stdout",
          "text": [
            "              precision    recall  f1-score   support\n",
            "\n",
            "         0.0       0.87      0.97      0.92      5707\n",
            "         1.0       0.14      0.03      0.05       875\n",
            "\n",
            "    accuracy                           0.84      6582\n",
            "   macro avg       0.50      0.50      0.48      6582\n",
            "weighted avg       0.77      0.84      0.80      6582\n",
            "\n"
          ]
        }
      ]
    },
    {
      "cell_type": "markdown",
      "source": [
        "## Decision Tree Classifier"
      ],
      "metadata": {
        "id": "LMNN9P6eQPYs"
      }
    },
    {
      "cell_type": "code",
      "source": [
        "from sklearn.tree import DecisionTreeClassifier"
      ],
      "metadata": {
        "id": "_C7qMpWhIBtI"
      },
      "execution_count": null,
      "outputs": []
    },
    {
      "cell_type": "code",
      "source": [
        "X_train, X_test, y_train, y_test = train_test_split(x, y, test_size=0.2, random_state=2)"
      ],
      "metadata": {
        "id": "Omo_-aehQRxp"
      },
      "execution_count": null,
      "outputs": []
    },
    {
      "cell_type": "code",
      "source": [
        "y_train_1d = np.ravel(y_train)"
      ],
      "metadata": {
        "id": "kMC_pnmbQWNS"
      },
      "execution_count": null,
      "outputs": []
    },
    {
      "cell_type": "code",
      "source": [
        "dt = DecisionTreeClassifier(random_state=2)"
      ],
      "metadata": {
        "id": "6gKnA2pcQaLi"
      },
      "execution_count": null,
      "outputs": []
    },
    {
      "cell_type": "code",
      "source": [
        "dt.fit(X_train,y_train)"
      ],
      "metadata": {
        "id": "08EqeTh3Qdvy",
        "colab": {
          "base_uri": "https://localhost:8080/"
        },
        "outputId": "3be5e6f5-482e-4ff9-d839-c4ca2c145f75"
      },
      "execution_count": null,
      "outputs": [
        {
          "output_type": "execute_result",
          "data": {
            "text/plain": [
              "DecisionTreeClassifier(random_state=2)"
            ]
          },
          "metadata": {},
          "execution_count": 187
        }
      ]
    },
    {
      "cell_type": "code",
      "source": [
        "y_pred = dt.predict(X_test)"
      ],
      "metadata": {
        "id": "c1GJKW6rQhSM"
      },
      "execution_count": null,
      "outputs": []
    },
    {
      "cell_type": "code",
      "source": [
        "accuracy = dt.score(X_test, y_test)\n",
        "print(f'Model accuracy: {accuracy:.2f}')"
      ],
      "metadata": {
        "id": "A8HOIC96QkLQ",
        "colab": {
          "base_uri": "https://localhost:8080/"
        },
        "outputId": "18b11a1a-d76f-4945-c967-5c8fd032c424"
      },
      "execution_count": null,
      "outputs": [
        {
          "output_type": "stream",
          "name": "stdout",
          "text": [
            "Model accuracy: 0.87\n"
          ]
        }
      ]
    },
    {
      "cell_type": "code",
      "source": [
        "test = dt.predict(X_test)\n",
        "\n",
        "print (\"Testing selesai\")\n",
        "\n",
        "print(classification_report(y_test, test))"
      ],
      "metadata": {
        "id": "EkNDfsIHQnn4",
        "colab": {
          "base_uri": "https://localhost:8080/"
        },
        "outputId": "b83f5d51-bdc7-4ba5-adb1-933d64241676"
      },
      "execution_count": null,
      "outputs": [
        {
          "output_type": "stream",
          "name": "stdout",
          "text": [
            "Testing selesai\n",
            "              precision    recall  f1-score   support\n",
            "\n",
            "         0.0       0.90      0.96      0.93      5707\n",
            "         1.0       0.52      0.30      0.38       875\n",
            "\n",
            "    accuracy                           0.87      6582\n",
            "   macro avg       0.71      0.63      0.65      6582\n",
            "weighted avg       0.85      0.87      0.85      6582\n",
            "\n"
          ]
        }
      ]
    },
    {
      "cell_type": "markdown",
      "source": [
        "### cross val"
      ],
      "metadata": {
        "id": "605PQ6Pildic"
      }
    },
    {
      "cell_type": "code",
      "source": [
        "from sklearn.model_selection import cross_val_score\n",
        "from sklearn.tree import DecisionTreeClassifier\n",
        "\n",
        "\n",
        "# Create the classifier\n",
        "clf = DecisionTreeClassifier()\n",
        "\n",
        "# Use 5-fold cross-validation\n",
        "scores = cross_val_score(clf, x, y, cv=5)\n",
        "\n",
        "# Print the mean and standard deviation of the scores\n",
        "print(f'Mean score: {scores.mean()}')\n",
        "print(f'Standard deviation: {scores.std()}')\n"
      ],
      "metadata": {
        "id": "yNQn-4agldPq",
        "colab": {
          "base_uri": "https://localhost:8080/"
        },
        "outputId": "d9fde362-c4bd-40e3-91c8-56820af52c41"
      },
      "execution_count": null,
      "outputs": [
        {
          "output_type": "stream",
          "name": "stdout",
          "text": [
            "Mean score: 0.7708599209966576\n",
            "Standard deviation: 0.014655772396278854\n"
          ]
        }
      ]
    },
    {
      "cell_type": "code",
      "source": [
        "from sklearn.model_selection import cross_val_predict\n",
        "from sklearn.metrics import classification_report\n",
        "\n",
        "# Use cross_val_predict to get the predicted labels for each fold\n",
        "y_pred = cross_val_predict(clf, x, y, cv=5)\n",
        "\n",
        "# Generate the report\n",
        "report = classification_report(y, y_pred)\n",
        "print(report)\n"
      ],
      "metadata": {
        "id": "eZCtoyamnbrO",
        "colab": {
          "base_uri": "https://localhost:8080/"
        },
        "outputId": "a452fb45-24bf-4f29-da65-8af61bd96ea2"
      },
      "execution_count": null,
      "outputs": [
        {
          "output_type": "stream",
          "name": "stdout",
          "text": [
            "              precision    recall  f1-score   support\n",
            "\n",
            "         0.0       0.87      0.86      0.87     28696\n",
            "         1.0       0.13      0.14      0.14      4214\n",
            "\n",
            "    accuracy                           0.77     32910\n",
            "   macro avg       0.50      0.50      0.50     32910\n",
            "weighted avg       0.78      0.77      0.77     32910\n",
            "\n"
          ]
        }
      ]
    },
    {
      "cell_type": "markdown",
      "source": [
        "# Predict Data_test"
      ],
      "metadata": {
        "id": "MXM4x62cpdJ_"
      }
    },
    {
      "cell_type": "markdown",
      "source": [
        "### Disini saya menggunakan decision tree classifier karena f1 scorenya lebih tinggi dari model lain yang saya coba"
      ],
      "metadata": {
        "id": "oBnv21-DbYzO"
      }
    },
    {
      "cell_type": "markdown",
      "source": [
        "#### saya test dengan file data_test yang telah disediakan oleh celerates"
      ],
      "metadata": {
        "id": "uqmvd5Iwbiqt"
      }
    },
    {
      "cell_type": "code",
      "source": [
        "importance = dt.feature_importances_\n",
        "importance"
      ],
      "metadata": {
        "id": "pWVmjmIWR1ss",
        "colab": {
          "base_uri": "https://localhost:8080/"
        },
        "outputId": "7ec93ec0-46bf-4a18-f4de-4f112d3bb5a8"
      },
      "execution_count": null,
      "outputs": [
        {
          "output_type": "execute_result",
          "data": {
            "text/plain": [
              "array([0.01870116, 0.02255723, 0.02008844, 0.02205738, 0.17932977,\n",
              "       0.05117346, 0.02927425, 0.04592705, 0.03127874, 0.01948301,\n",
              "       0.02784267, 0.01603373, 0.12031099, 0.04331344, 0.19536434,\n",
              "       0.15726436])"
            ]
          },
          "metadata": {},
          "execution_count": 193
        }
      ]
    },
    {
      "cell_type": "code",
      "source": [
        "data_test = pd.read_csv(\"/content/drive/MyDrive/finproject_celerates/data_test.csv\")"
      ],
      "metadata": {
        "id": "joDL4wPlpfrp"
      },
      "execution_count": null,
      "outputs": []
    },
    {
      "cell_type": "code",
      "source": [
        "obj_df = data_test.select_dtypes(include=['object'])\n",
        "colum = obj_df\n",
        "for i in colum:\n",
        "  data_test[i] = data_test[i].astype('category')"
      ],
      "metadata": {
        "id": "8-F7Kms9q3rP"
      },
      "execution_count": null,
      "outputs": []
    },
    {
      "cell_type": "code",
      "source": [
        "data_test['JK'] = data_test['JK'].cat.codes\n",
        "data_test['KepemilikanMobil'] = data_test['KepemilikanMobil'].cat.codes\n",
        "data_test['KepemilikanProperti'] = data_test['KepemilikanProperti'].cat.codes\n",
        "data_test['TipePendapatan'] = data_test['TipePendapatan'].cat.codes\n",
        "data_test['TingkatPendidikan'] = data_test['TingkatPendidikan'].cat.codes\n",
        "data_test['StatusKeluarga'] = data_test['StatusKeluarga'].cat.codes\n",
        "data_test['TipeRumah'] = data_test['TipeRumah'].cat.codes\n",
        "data_test['Pekerjaan'] = data_test['Pekerjaan'].cat.codes"
      ],
      "metadata": {
        "id": "yG5i2B90prq7"
      },
      "execution_count": null,
      "outputs": []
    },
    {
      "cell_type": "code",
      "source": [
        "feature_test = []\n",
        "for i in data_test.columns:\n",
        "  if i not in ['Id_customer', 'FlagMobile']:\n",
        "    feature_test.append(i)\n",
        "feature_test"
      ],
      "metadata": {
        "id": "OtcHFAg5v5eA",
        "colab": {
          "base_uri": "https://localhost:8080/"
        },
        "outputId": "a566fa7c-3d3c-46ec-a638-f1bb32c32d81"
      },
      "execution_count": null,
      "outputs": [
        {
          "output_type": "execute_result",
          "data": {
            "text/plain": [
              "['JK',\n",
              " 'KepemilikanMobil',\n",
              " 'KepemilikanProperti',\n",
              " 'JmlAnak',\n",
              " 'Pendapatan',\n",
              " 'TipePendapatan',\n",
              " 'TingkatPendidikan',\n",
              " 'StatusKeluarga',\n",
              " 'TipeRumah',\n",
              " 'FlagWorkPhone',\n",
              " 'FlagPhone',\n",
              " 'Email',\n",
              " 'Pekerjaan',\n",
              " 'JmlAnggotaKeluarga',\n",
              " 'Age',\n",
              " 'Experience']"
            ]
          },
          "metadata": {},
          "execution_count": 197
        }
      ]
    },
    {
      "cell_type": "code",
      "source": [
        "x_test = data_test.loc[:, feature_test]"
      ],
      "metadata": {
        "id": "eW42Gla1w4_N"
      },
      "execution_count": null,
      "outputs": []
    },
    {
      "cell_type": "code",
      "source": [
        "test = dt.predict(x_test)"
      ],
      "metadata": {
        "id": "z5X_VmmbqNVx"
      },
      "execution_count": null,
      "outputs": []
    },
    {
      "cell_type": "code",
      "source": [
        "pred_series = pd.Series(test)"
      ],
      "metadata": {
        "id": "bsMOcioKr3fx"
      },
      "execution_count": null,
      "outputs": []
    },
    {
      "cell_type": "code",
      "source": [
        "data_test['Value'] = pred_series"
      ],
      "metadata": {
        "id": "mokRKaHTxIZc"
      },
      "execution_count": null,
      "outputs": []
    },
    {
      "cell_type": "code",
      "source": [
        "data_test[['Id_customer','Value']].to_csv(\"tes.csv\")"
      ],
      "metadata": {
        "id": "vao91pvbxKoN"
      },
      "execution_count": null,
      "outputs": []
    },
    {
      "cell_type": "code",
      "source": [
        "#files.download('tes.csv')"
      ],
      "metadata": {
        "id": "_d5VLgNlxfrl"
      },
      "execution_count": null,
      "outputs": []
    },
    {
      "cell_type": "markdown",
      "source": [
        "# DECODE"
      ],
      "metadata": {
        "id": "sQY0qDmvzGrb"
      }
    },
    {
      "cell_type": "code",
      "source": [
        "df = df.replace({'JK':original[0]})\n",
        "df = df.replace({'StatusKeluarga':original[5]})\n",
        "df = df.replace({'TipeRumah':original[6]})\n",
        "df = df.replace({'KepemilikanMobil':original[1]})\n",
        "df = df.replace({'KepemilikanProperti':original[1]})\n",
        "df = df.replace({'TipePendapatan':original[3]})\n",
        "df = df.replace({'TingkatPendidikan':original[4]})\n",
        "df = df.replace({'Pekerjaan':original[7]})"
      ],
      "metadata": {
        "id": "EXZz3sjm13gp"
      },
      "execution_count": null,
      "outputs": []
    },
    {
      "cell_type": "code",
      "source": [
        "df = df.replace({'Overdue':{0:\"Good Borrower\", 1:\"Bad Borrower\"}})"
      ],
      "metadata": {
        "id": "6g7S-KjYLuSB"
      },
      "execution_count": null,
      "outputs": []
    },
    {
      "cell_type": "code",
      "source": [
        "df.head()"
      ],
      "metadata": {
        "id": "vsz-xAyJPmcv",
        "colab": {
          "base_uri": "https://localhost:8080/",
          "height": 357
        },
        "outputId": "62d943d6-aa9a-4e19-ef06-ed70637355b3"
      },
      "execution_count": null,
      "outputs": [
        {
          "output_type": "execute_result",
          "data": {
            "text/plain": [
              "   Id_customer         JK KepemilikanMobil KepemilikanProperti  JmlAnak  \\\n",
              "0      5008804  Laki-laki               Ya                  Ya        0   \n",
              "1      5008805  Laki-laki               Ya                  Ya        0   \n",
              "3      5008806  Laki-laki               Ya                  Ya        0   \n",
              "4      5008808  Perempuan            Tidak                  Ya        0   \n",
              "6      5008810  Perempuan            Tidak                  Ya        0   \n",
              "\n",
              "   Pendapatan      TipePendapatan TingkatPendidikan StatusKeluarga  \\\n",
              "0    427500.0             Bekerja      Postgraduate        Menikah   \n",
              "1    427500.0             Bekerja      Postgraduate        Menikah   \n",
              "3    112500.0             Bekerja          Graduate        Menikah   \n",
              "4    270000.0  Asosiasi komersial          Graduate  Belum Menikah   \n",
              "6    270000.0  Asosiasi komersial          Graduate  Belum Menikah   \n",
              "\n",
              "        TipeRumah  FlagMobile  FlagWorkPhone  FlagPhone  Email  \\\n",
              "0  Sewa Apartemen           1              1          0      0   \n",
              "1  Sewa Apartemen           1              1          0      0   \n",
              "3   Rumah pribadi           1              0          0      0   \n",
              "4   Rumah pribadi           1              0          1      1   \n",
              "6   Rumah pribadi           1              0          1      1   \n",
              "\n",
              "        Pekerjaan  JmlAnggotaKeluarga   Age  Experience        Overdue  \n",
              "0        Managers                 2.0  33.0        12.0   Bad Borrower  \n",
              "1        Managers                 2.0  33.0        12.0   Bad Borrower  \n",
              "3  Security staff                 2.0  59.0         3.0  Good Borrower  \n",
              "4     Sales staff                 1.0  52.0         8.0  Good Borrower  \n",
              "6     Sales staff                 1.0  52.0         8.0  Good Borrower  "
            ],
            "text/html": [
              "\n",
              "  <div id=\"df-4e8a78fc-49bc-4791-878b-12200368285d\">\n",
              "    <div class=\"colab-df-container\">\n",
              "      <div>\n",
              "<style scoped>\n",
              "    .dataframe tbody tr th:only-of-type {\n",
              "        vertical-align: middle;\n",
              "    }\n",
              "\n",
              "    .dataframe tbody tr th {\n",
              "        vertical-align: top;\n",
              "    }\n",
              "\n",
              "    .dataframe thead th {\n",
              "        text-align: right;\n",
              "    }\n",
              "</style>\n",
              "<table border=\"1\" class=\"dataframe\">\n",
              "  <thead>\n",
              "    <tr style=\"text-align: right;\">\n",
              "      <th></th>\n",
              "      <th>Id_customer</th>\n",
              "      <th>JK</th>\n",
              "      <th>KepemilikanMobil</th>\n",
              "      <th>KepemilikanProperti</th>\n",
              "      <th>JmlAnak</th>\n",
              "      <th>Pendapatan</th>\n",
              "      <th>TipePendapatan</th>\n",
              "      <th>TingkatPendidikan</th>\n",
              "      <th>StatusKeluarga</th>\n",
              "      <th>TipeRumah</th>\n",
              "      <th>FlagMobile</th>\n",
              "      <th>FlagWorkPhone</th>\n",
              "      <th>FlagPhone</th>\n",
              "      <th>Email</th>\n",
              "      <th>Pekerjaan</th>\n",
              "      <th>JmlAnggotaKeluarga</th>\n",
              "      <th>Age</th>\n",
              "      <th>Experience</th>\n",
              "      <th>Overdue</th>\n",
              "    </tr>\n",
              "  </thead>\n",
              "  <tbody>\n",
              "    <tr>\n",
              "      <th>0</th>\n",
              "      <td>5008804</td>\n",
              "      <td>Laki-laki</td>\n",
              "      <td>Ya</td>\n",
              "      <td>Ya</td>\n",
              "      <td>0</td>\n",
              "      <td>427500.0</td>\n",
              "      <td>Bekerja</td>\n",
              "      <td>Postgraduate</td>\n",
              "      <td>Menikah</td>\n",
              "      <td>Sewa Apartemen</td>\n",
              "      <td>1</td>\n",
              "      <td>1</td>\n",
              "      <td>0</td>\n",
              "      <td>0</td>\n",
              "      <td>Managers</td>\n",
              "      <td>2.0</td>\n",
              "      <td>33.0</td>\n",
              "      <td>12.0</td>\n",
              "      <td>Bad Borrower</td>\n",
              "    </tr>\n",
              "    <tr>\n",
              "      <th>1</th>\n",
              "      <td>5008805</td>\n",
              "      <td>Laki-laki</td>\n",
              "      <td>Ya</td>\n",
              "      <td>Ya</td>\n",
              "      <td>0</td>\n",
              "      <td>427500.0</td>\n",
              "      <td>Bekerja</td>\n",
              "      <td>Postgraduate</td>\n",
              "      <td>Menikah</td>\n",
              "      <td>Sewa Apartemen</td>\n",
              "      <td>1</td>\n",
              "      <td>1</td>\n",
              "      <td>0</td>\n",
              "      <td>0</td>\n",
              "      <td>Managers</td>\n",
              "      <td>2.0</td>\n",
              "      <td>33.0</td>\n",
              "      <td>12.0</td>\n",
              "      <td>Bad Borrower</td>\n",
              "    </tr>\n",
              "    <tr>\n",
              "      <th>3</th>\n",
              "      <td>5008806</td>\n",
              "      <td>Laki-laki</td>\n",
              "      <td>Ya</td>\n",
              "      <td>Ya</td>\n",
              "      <td>0</td>\n",
              "      <td>112500.0</td>\n",
              "      <td>Bekerja</td>\n",
              "      <td>Graduate</td>\n",
              "      <td>Menikah</td>\n",
              "      <td>Rumah pribadi</td>\n",
              "      <td>1</td>\n",
              "      <td>0</td>\n",
              "      <td>0</td>\n",
              "      <td>0</td>\n",
              "      <td>Security staff</td>\n",
              "      <td>2.0</td>\n",
              "      <td>59.0</td>\n",
              "      <td>3.0</td>\n",
              "      <td>Good Borrower</td>\n",
              "    </tr>\n",
              "    <tr>\n",
              "      <th>4</th>\n",
              "      <td>5008808</td>\n",
              "      <td>Perempuan</td>\n",
              "      <td>Tidak</td>\n",
              "      <td>Ya</td>\n",
              "      <td>0</td>\n",
              "      <td>270000.0</td>\n",
              "      <td>Asosiasi komersial</td>\n",
              "      <td>Graduate</td>\n",
              "      <td>Belum Menikah</td>\n",
              "      <td>Rumah pribadi</td>\n",
              "      <td>1</td>\n",
              "      <td>0</td>\n",
              "      <td>1</td>\n",
              "      <td>1</td>\n",
              "      <td>Sales staff</td>\n",
              "      <td>1.0</td>\n",
              "      <td>52.0</td>\n",
              "      <td>8.0</td>\n",
              "      <td>Good Borrower</td>\n",
              "    </tr>\n",
              "    <tr>\n",
              "      <th>6</th>\n",
              "      <td>5008810</td>\n",
              "      <td>Perempuan</td>\n",
              "      <td>Tidak</td>\n",
              "      <td>Ya</td>\n",
              "      <td>0</td>\n",
              "      <td>270000.0</td>\n",
              "      <td>Asosiasi komersial</td>\n",
              "      <td>Graduate</td>\n",
              "      <td>Belum Menikah</td>\n",
              "      <td>Rumah pribadi</td>\n",
              "      <td>1</td>\n",
              "      <td>0</td>\n",
              "      <td>1</td>\n",
              "      <td>1</td>\n",
              "      <td>Sales staff</td>\n",
              "      <td>1.0</td>\n",
              "      <td>52.0</td>\n",
              "      <td>8.0</td>\n",
              "      <td>Good Borrower</td>\n",
              "    </tr>\n",
              "  </tbody>\n",
              "</table>\n",
              "</div>\n",
              "      <button class=\"colab-df-convert\" onclick=\"convertToInteractive('df-4e8a78fc-49bc-4791-878b-12200368285d')\"\n",
              "              title=\"Convert this dataframe to an interactive table.\"\n",
              "              style=\"display:none;\">\n",
              "        \n",
              "  <svg xmlns=\"http://www.w3.org/2000/svg\" height=\"24px\"viewBox=\"0 0 24 24\"\n",
              "       width=\"24px\">\n",
              "    <path d=\"M0 0h24v24H0V0z\" fill=\"none\"/>\n",
              "    <path d=\"M18.56 5.44l.94 2.06.94-2.06 2.06-.94-2.06-.94-.94-2.06-.94 2.06-2.06.94zm-11 1L8.5 8.5l.94-2.06 2.06-.94-2.06-.94L8.5 2.5l-.94 2.06-2.06.94zm10 10l.94 2.06.94-2.06 2.06-.94-2.06-.94-.94-2.06-.94 2.06-2.06.94z\"/><path d=\"M17.41 7.96l-1.37-1.37c-.4-.4-.92-.59-1.43-.59-.52 0-1.04.2-1.43.59L10.3 9.45l-7.72 7.72c-.78.78-.78 2.05 0 2.83L4 21.41c.39.39.9.59 1.41.59.51 0 1.02-.2 1.41-.59l7.78-7.78 2.81-2.81c.8-.78.8-2.07 0-2.86zM5.41 20L4 18.59l7.72-7.72 1.47 1.35L5.41 20z\"/>\n",
              "  </svg>\n",
              "      </button>\n",
              "      \n",
              "  <style>\n",
              "    .colab-df-container {\n",
              "      display:flex;\n",
              "      flex-wrap:wrap;\n",
              "      gap: 12px;\n",
              "    }\n",
              "\n",
              "    .colab-df-convert {\n",
              "      background-color: #E8F0FE;\n",
              "      border: none;\n",
              "      border-radius: 50%;\n",
              "      cursor: pointer;\n",
              "      display: none;\n",
              "      fill: #1967D2;\n",
              "      height: 32px;\n",
              "      padding: 0 0 0 0;\n",
              "      width: 32px;\n",
              "    }\n",
              "\n",
              "    .colab-df-convert:hover {\n",
              "      background-color: #E2EBFA;\n",
              "      box-shadow: 0px 1px 2px rgba(60, 64, 67, 0.3), 0px 1px 3px 1px rgba(60, 64, 67, 0.15);\n",
              "      fill: #174EA6;\n",
              "    }\n",
              "\n",
              "    [theme=dark] .colab-df-convert {\n",
              "      background-color: #3B4455;\n",
              "      fill: #D2E3FC;\n",
              "    }\n",
              "\n",
              "    [theme=dark] .colab-df-convert:hover {\n",
              "      background-color: #434B5C;\n",
              "      box-shadow: 0px 1px 3px 1px rgba(0, 0, 0, 0.15);\n",
              "      filter: drop-shadow(0px 1px 2px rgba(0, 0, 0, 0.3));\n",
              "      fill: #FFFFFF;\n",
              "    }\n",
              "  </style>\n",
              "\n",
              "      <script>\n",
              "        const buttonEl =\n",
              "          document.querySelector('#df-4e8a78fc-49bc-4791-878b-12200368285d button.colab-df-convert');\n",
              "        buttonEl.style.display =\n",
              "          google.colab.kernel.accessAllowed ? 'block' : 'none';\n",
              "\n",
              "        async function convertToInteractive(key) {\n",
              "          const element = document.querySelector('#df-4e8a78fc-49bc-4791-878b-12200368285d');\n",
              "          const dataTable =\n",
              "            await google.colab.kernel.invokeFunction('convertToInteractive',\n",
              "                                                     [key], {});\n",
              "          if (!dataTable) return;\n",
              "\n",
              "          const docLinkHtml = 'Like what you see? Visit the ' +\n",
              "            '<a target=\"_blank\" href=https://colab.research.google.com/notebooks/data_table.ipynb>data table notebook</a>'\n",
              "            + ' to learn more about interactive tables.';\n",
              "          element.innerHTML = '';\n",
              "          dataTable['output_type'] = 'display_data';\n",
              "          await google.colab.output.renderOutput(dataTable, element);\n",
              "          const docLink = document.createElement('div');\n",
              "          docLink.innerHTML = docLinkHtml;\n",
              "          element.appendChild(docLink);\n",
              "        }\n",
              "      </script>\n",
              "    </div>\n",
              "  </div>\n",
              "  "
            ]
          },
          "metadata": {},
          "execution_count": 206
        }
      ]
    },
    {
      "cell_type": "code",
      "source": [
        "df.to_csv('Datasets_clean.csv')"
      ],
      "metadata": {
        "id": "ooZDksPRPoF7"
      },
      "execution_count": null,
      "outputs": []
    },
    {
      "cell_type": "code",
      "source": [
        "#files.download('Datasets_clean.csv')"
      ],
      "metadata": {
        "id": "oplA7HWxP0Z4"
      },
      "execution_count": null,
      "outputs": []
    }
  ]
}